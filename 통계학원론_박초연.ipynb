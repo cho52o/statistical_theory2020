{
  "nbformat": 4,
  "nbformat_minor": 0,
  "metadata": {
    "colab": {
      "name": "통계학원론_박초연.ipynb",
      "provenance": [],
      "collapsed_sections": [
        "_yQ-eA5M4IwR",
        "mm1JRGYULiIT",
        "F0IQJwN7KmL8",
        "poBlrwUz_m0L",
        "YwWN2luuNqDF",
        "9I5HKHbON7WZ",
        "3IujCFFiUOhV",
        "7EyxWiYuUY_-",
        "GqAWrr-OZpYd",
        "2Mb0byx0kDAS",
        "udfHiWTc6ngu",
        "-4NtEofnlJ0Y",
        "4iGUDfmUqkm2",
        "8L9n-rbcGAwg",
        "QAZzMp6CwzKJ",
        "hDLJytLfsZYM",
        "nF_gbMjvwdFK",
        "ntB9LCxwuDJb",
        "7ubyMeUE04f2",
        "Psdv9f4N1HFu"
      ],
      "authorship_tag": "ABX9TyO1FL1286TYmewX36dVrKGX",
      "include_colab_link": true
    },
    "kernelspec": {
      "name": "python3",
      "display_name": "Python 3"
    }
  },
  "cells": [
    {
      "cell_type": "markdown",
      "metadata": {
        "id": "view-in-github",
        "colab_type": "text"
      },
      "source": [
        "<a href=\"https://colab.research.google.com/github/cho52o/statistical_theory2020/blob/main/%ED%86%B5%EA%B3%84%ED%95%99%EC%9B%90%EB%A1%A0_%EB%B0%95%EC%B4%88%EC%97%B0.ipynb\" target=\"_parent\"><img src=\"https://colab.research.google.com/assets/colab-badge.svg\" alt=\"Open In Colab\"/></a>"
      ]
    },
    {
      "cell_type": "markdown",
      "metadata": {
        "id": "_yQ-eA5M4IwR"
      },
      "source": [
        "### 06.15.월"
      ]
    },
    {
      "cell_type": "code",
      "metadata": {
        "id": "2_npM61k4NA1"
      },
      "source": [
        "import scipy.stats as st\n",
        "x = st.chi2.rvs(5,0,1,10)"
      ],
      "execution_count": null,
      "outputs": []
    },
    {
      "cell_type": "markdown",
      "metadata": {
        "id": "x7eUup-fdE76"
      },
      "source": [
        "95% 신뢰구간 구하기"
      ]
    },
    {
      "cell_type": "code",
      "metadata": {
        "id": "xLaGKe8-cllV",
        "colab": {
          "base_uri": "https://localhost:8080/",
          "height": 34
        },
        "outputId": "8e870f51-2e70-4030-ee23-3131aeea3d40"
      },
      "source": [
        "Upper = x.mean() + st.norm.ppf(0.975)*x.std()/(x.shape[0])**0.5\n",
        "Lower = x.mean() - st.norm.ppf(0.975)*x.std()/(x.shape[0])**0.5\n",
        "print('하한 =', Lower,'상한 =', Upper)"
      ],
      "execution_count": null,
      "outputs": [
        {
          "output_type": "stream",
          "text": [
            "하한 = 3.418528556899319 상한 = 7.286628387145586\n"
          ],
          "name": "stdout"
        }
      ]
    },
    {
      "cell_type": "markdown",
      "metadata": {
        "id": "J6NtO9O6hxcr"
      },
      "source": [
        "통계적 가설\n",
        "\n",
        "> 귀무가설 : 모집단 평균은 5이다.\n",
        "> 대립가설 : 평균은 5가 아니다."
      ]
    },
    {
      "cell_type": "markdown",
      "metadata": {
        "id": "ygeNQzfciG84"
      },
      "source": [
        "모평균 점추정량?"
      ]
    },
    {
      "cell_type": "code",
      "metadata": {
        "id": "BeQIJcY5f7DB",
        "colab": {
          "base_uri": "https://localhost:8080/",
          "height": 34
        },
        "outputId": "64bf9be3-842f-4ea0-8389-ac7604d5aa28"
      },
      "source": [
        "x.mean()"
      ],
      "execution_count": null,
      "outputs": [
        {
          "output_type": "execute_result",
          "data": {
            "text/plain": [
              "5.3525784720224525"
            ]
          },
          "metadata": {
            "tags": []
          },
          "execution_count": 3
        }
      ]
    },
    {
      "cell_type": "markdown",
      "metadata": {
        "id": "151UEv3oiL3o"
      },
      "source": [
        "검정통계량?\n",
        "\n",
        "> TS = (표본평균 - 귀무가설 설정평균) / (s/sqrt(n))"
      ]
    },
    {
      "cell_type": "code",
      "metadata": {
        "id": "t8GFMWEyf5HY",
        "colab": {
          "base_uri": "https://localhost:8080/",
          "height": 34
        },
        "outputId": "7b242f4a-29a5-458b-dc9e-ae8b3547a70d"
      },
      "source": [
        "ts = abs((x.mean()-5)/(x.std()/x.shape[0]**0.5))\n",
        "(1-st.norm.cdf(ts))*2 # 유의수준 = p-value"
      ],
      "execution_count": null,
      "outputs": [
        {
          "output_type": "execute_result",
          "data": {
            "text/plain": [
              "0.7208652668614808"
            ]
          },
          "metadata": {
            "tags": []
          },
          "execution_count": 4
        }
      ]
    },
    {
      "cell_type": "markdown",
      "metadata": {
        "id": "clMVjm8clGCT"
      },
      "source": [
        "유의수준과 유의확률 비교"
      ]
    },
    {
      "cell_type": "markdown",
      "metadata": {
        "id": "JwMstwCrkxZo"
      },
      "source": [
        "문제\n",
        "\n",
        "전국 흡연율이 28%이다. 기독교 학교인 우리 대학은 전국 흡연율보다 낮다고 주장한다. 그래서 이주장이 맞는지 알아보기 위하여 한남대생 100명을 무작위로 선택하여 흡연 여부를 물었더니 19명이 흡연하다고 했다. 한남대학교 학생 흡연율의 추정치를 구하고 한남대 주장을 검정하시오.\n",
        "\n",
        "19/100 흡연율의 점추정치\n",
        "> 귀무가설 : 한남대생 흡연율=28%이다.\n",
        "> 대립가설 : 한남대생 흡연율<28%이다."
      ]
    },
    {
      "cell_type": "code",
      "metadata": {
        "id": "hx_kUm-Ana-j"
      },
      "source": [
        "x = st.norm.rvs(25,19,100)"
      ],
      "execution_count": null,
      "outputs": []
    },
    {
      "cell_type": "code",
      "metadata": {
        "id": "ELMPB3KSlTec",
        "colab": {
          "base_uri": "https://localhost:8080/",
          "height": 34
        },
        "outputId": "85397a8d-9704-4e77-fd04-e8c7b45683a4"
      },
      "source": [
        "ts = abs((x.mean()-28)/(x.std()/x.shape[0]**0.5))\n",
        "1-st.norm.cdf(ts) # 유의수준 = p-value"
      ],
      "execution_count": null,
      "outputs": [
        {
          "output_type": "execute_result",
          "data": {
            "text/plain": [
              "0.3019680804588356"
            ]
          },
          "metadata": {
            "tags": []
          },
          "execution_count": 6
        }
      ]
    },
    {
      "cell_type": "code",
      "metadata": {
        "id": "8dYAT4TEn9me"
      },
      "source": [
        "phat = 19/100\n",
        "ts = (phat-0.25)/(0.25*0.75/100)**0.5"
      ],
      "execution_count": null,
      "outputs": []
    },
    {
      "cell_type": "code",
      "metadata": {
        "id": "rmjxW9s8lSk6",
        "colab": {
          "base_uri": "https://localhost:8080/",
          "height": 34
        },
        "outputId": "97c477ee-7496-4ee4-cf0b-85256e3e0caf"
      },
      "source": [
        "1-st.norm.cdf(abs(ts)) # 유의수준 = p-value"
      ],
      "execution_count": null,
      "outputs": [
        {
          "output_type": "execute_result",
          "data": {
            "text/plain": [
              "0.08292833017145496"
            ]
          },
          "metadata": {
            "tags": []
          },
          "execution_count": 8
        }
      ]
    },
    {
      "cell_type": "markdown",
      "metadata": {
        "id": "GsU2ZbRvpJS9"
      },
      "source": [
        "유의수준 10%에서는 그들의 주장이 맞다. 그러나 5%에서는 그들의 주장이 맞지 않다."
      ]
    },
    {
      "cell_type": "markdown",
      "metadata": {
        "id": "mm1JRGYULiIT"
      },
      "source": [
        "### 06.08.월"
      ]
    },
    {
      "cell_type": "markdown",
      "metadata": {
        "id": "-DVIa_CAWtUJ"
      },
      "source": [
        "정규분포 N(평균=50,표준편차=10)을 따르는 데이터 30개 난수 생성하고 data에 저장하시오."
      ]
    },
    {
      "cell_type": "code",
      "metadata": {
        "id": "oiHuYpYcLn7I"
      },
      "source": [
        "import scipy.stats as st\n",
        "data = st.norm.rvs(50,10,30)"
      ],
      "execution_count": null,
      "outputs": []
    },
    {
      "cell_type": "markdown",
      "metadata": {
        "id": "Yvcj_b-zYRng"
      },
      "source": [
        "1) 모집단의 평균을 모수라 할 때 모수의 점추정량을 구하시오."
      ]
    },
    {
      "cell_type": "code",
      "metadata": {
        "id": "-dzuhlZ7Xyr8",
        "colab": {
          "base_uri": "https://localhost:8080/",
          "height": 34
        },
        "outputId": "4017dc5b-26b6-4a74-9781-1dcf5e8e7b0e"
      },
      "source": [
        "data.mean()"
      ],
      "execution_count": null,
      "outputs": [
        {
          "output_type": "execute_result",
          "data": {
            "text/plain": [
              "52.038986512535075"
            ]
          },
          "metadata": {
            "tags": []
          },
          "execution_count": 10
        }
      ]
    },
    {
      "cell_type": "markdown",
      "metadata": {
        "id": "G-sxIxIfYcD9"
      },
      "source": [
        "2) 모수 = 모집단 분산일 때 모수의 점추정량을 구하시오."
      ]
    },
    {
      "cell_type": "code",
      "metadata": {
        "id": "H3tpJTPhLn0C",
        "colab": {
          "base_uri": "https://localhost:8080/",
          "height": 34
        },
        "outputId": "68ffbc8e-de12-4638-958d-f70a988fe34c"
      },
      "source": [
        "data.var()"
      ],
      "execution_count": null,
      "outputs": [
        {
          "output_type": "execute_result",
          "data": {
            "text/plain": [
              "118.87634246930821"
            ]
          },
          "metadata": {
            "tags": []
          },
          "execution_count": 11
        }
      ]
    },
    {
      "cell_type": "markdown",
      "metadata": {
        "id": "uXUEpS5lYrFj"
      },
      "source": [
        "3) 모수 = 60점 이상인 학생의 비율에 대한 점추정량을 구하시오."
      ]
    },
    {
      "cell_type": "code",
      "metadata": {
        "id": "g0KSure4Lnvc",
        "colab": {
          "base_uri": "https://localhost:8080/",
          "height": 34
        },
        "outputId": "9476939f-92dc-42f3-8369-754016755966"
      },
      "source": [
        "sum(data >= 60)/30"
      ],
      "execution_count": null,
      "outputs": [
        {
          "output_type": "execute_result",
          "data": {
            "text/plain": [
              "0.26666666666666666"
            ]
          },
          "metadata": {
            "tags": []
          },
          "execution_count": 12
        }
      ]
    },
    {
      "cell_type": "markdown",
      "metadata": {
        "id": "rYQNZ5jLcBQj"
      },
      "source": [
        "신뢰구간 구하기:학생들의 중간고사 평균 신뢰구간 구하기"
      ]
    },
    {
      "cell_type": "code",
      "metadata": {
        "id": "7o70H0luaxh9",
        "colab": {
          "base_uri": "https://localhost:8080/",
          "height": 34
        },
        "outputId": "fb8ef9d2-4803-4ef9-829b-428cdfa00725"
      },
      "source": [
        "st.norm.ppf(0.025,50,data.std()/30**0.5)"
      ],
      "execution_count": null,
      "outputs": [
        {
          "output_type": "execute_result",
          "data": {
            "text/plain": [
              "46.09846793190769"
            ]
          },
          "metadata": {
            "tags": []
          },
          "execution_count": 13
        }
      ]
    },
    {
      "cell_type": "code",
      "metadata": {
        "id": "UeHDeNwKa0N4",
        "colab": {
          "base_uri": "https://localhost:8080/",
          "height": 34
        },
        "outputId": "8af4b7c6-05c5-461c-e639-32bea32b5d1a"
      },
      "source": [
        "st.norm.ppf(0.975,50,data.std()/30**0.5)"
      ],
      "execution_count": null,
      "outputs": [
        {
          "output_type": "execute_result",
          "data": {
            "text/plain": [
              "53.90153206809231"
            ]
          },
          "metadata": {
            "tags": []
          },
          "execution_count": 14
        }
      ]
    },
    {
      "cell_type": "code",
      "metadata": {
        "id": "VVH9cMKggB8k",
        "colab": {
          "base_uri": "https://localhost:8080/",
          "height": 34
        },
        "outputId": "c96ca4ac-a8f5-42d7-957e-b5e152684927"
      },
      "source": [
        "print('95%% 신뢰구간 하한=%.1f, 상한=%.1f' %(st.norm.ppf(0.025,50,data.std()/30**0.5),st.norm.ppf(0.975,50,data.std()/30**0.5)))"
      ],
      "execution_count": null,
      "outputs": [
        {
          "output_type": "stream",
          "text": [
            "95% 신뢰구간 하한=46.1, 상한=53.9\n"
          ],
          "name": "stdout"
        }
      ]
    },
    {
      "cell_type": "markdown",
      "metadata": {
        "id": "oZsLvx8Zi76m"
      },
      "source": [
        "모집단 분산 95% 신뢰구간 구하기"
      ]
    },
    {
      "cell_type": "code",
      "metadata": {
        "id": "2myuVutzhY4l",
        "colab": {
          "base_uri": "https://localhost:8080/",
          "height": 34
        },
        "outputId": "9b85f0fe-fcde-4932-9817-c6c143edade5"
      },
      "source": [
        "30*data.var()/0.025"
      ],
      "execution_count": null,
      "outputs": [
        {
          "output_type": "execute_result",
          "data": {
            "text/plain": [
              "142651.61096316986"
            ]
          },
          "metadata": {
            "tags": []
          },
          "execution_count": 16
        }
      ]
    },
    {
      "cell_type": "code",
      "metadata": {
        "id": "DBZ9lC7vgBoq",
        "colab": {
          "base_uri": "https://localhost:8080/",
          "height": 34
        },
        "outputId": "e2992dd0-d4ec-473a-997e-5a4fd435fdbf"
      },
      "source": [
        "30*data.var()/0.975"
      ],
      "execution_count": null,
      "outputs": [
        {
          "output_type": "execute_result",
          "data": {
            "text/plain": [
              "3657.733614440253"
            ]
          },
          "metadata": {
            "tags": []
          },
          "execution_count": 17
        }
      ]
    },
    {
      "cell_type": "code",
      "metadata": {
        "id": "oaDaokX4gBSc",
        "colab": {
          "base_uri": "https://localhost:8080/",
          "height": 34
        },
        "outputId": "42ddd563-b2e9-4698-a9c7-a0b2d9240bec"
      },
      "source": [
        "print('95%% 신뢰구간 하한=%.1f, 상한=%.1f' %(30*data.var()/st.chi2.ppf(0.975,29),30*data.var()/st.chi2.ppf(0.025,29)))"
      ],
      "execution_count": null,
      "outputs": [
        {
          "output_type": "stream",
          "text": [
            "95% 신뢰구간 하한=78.0, 상한=222.2\n"
          ],
          "name": "stdout"
        }
      ]
    },
    {
      "cell_type": "markdown",
      "metadata": {
        "id": "F0IQJwN7KmL8"
      },
      "source": [
        "### 숙제"
      ]
    },
    {
      "cell_type": "markdown",
      "metadata": {
        "id": "k_-WF45ZKqYo"
      },
      "source": [
        "> 학번 뒷자리\n",
        "* 정규분포(0,1) : 0,1,2,3\n",
        "* 균일분포(1,2) : 4,5,6\n",
        "* 지수분포(스케일=0.5) : 7,8,9"
      ]
    },
    {
      "cell_type": "code",
      "metadata": {
        "id": "zq27g9G-LEH2",
        "colab": {
          "base_uri": "https://localhost:8080/",
          "height": 51
        },
        "outputId": "c6654eb2-2b96-422f-ebfb-9d4c8b4b4751"
      },
      "source": [
        "import pandas as pd\n",
        "import scipy.stats as st\n",
        "df = pd.DataFrame(columns=['x'])\n",
        "for i in range(0,1000):\n",
        "    df=df.append({'x': st.norm.rvs(0,1,2).mean()}, ignore_index=True)\n",
        "df.mean()"
      ],
      "execution_count": null,
      "outputs": [
        {
          "output_type": "execute_result",
          "data": {
            "text/plain": [
              "x    0.033991\n",
              "dtype: float64"
            ]
          },
          "metadata": {
            "tags": []
          },
          "execution_count": 19
        }
      ]
    },
    {
      "cell_type": "code",
      "metadata": {
        "id": "ufgd4zwYLkrQ",
        "colab": {
          "base_uri": "https://localhost:8080/",
          "height": 282
        },
        "outputId": "6cb6ec6f-e40e-4066-df3e-5ffb3f5dc8c4"
      },
      "source": [
        "df2=df.astype(float)\n",
        "import matplotlib.pyplot as plt\n",
        "pd.DataFrame(df2).plot.kde(bw_method=0.3)"
      ],
      "execution_count": null,
      "outputs": [
        {
          "output_type": "execute_result",
          "data": {
            "text/plain": [
              "<matplotlib.axes._subplots.AxesSubplot at 0x7f3f33d20e80>"
            ]
          },
          "metadata": {
            "tags": []
          },
          "execution_count": 20
        },
        {
          "output_type": "display_data",
          "data": {
            "image/png": "[encoded data removed]",
            "text/plain": [
              "<Figure size 432x288 with 1 Axes>"
            ]
          },
          "metadata": {
            "tags": [],
            "needs_background": "light"
          }
        }
      ]
    },
    {
      "cell_type": "code",
      "metadata": {
        "id": "8hjVpjA4Lsx6",
        "colab": {
          "base_uri": "https://localhost:8080/",
          "height": 51
        },
        "outputId": "47c0394c-7ef5-4996-8e03-c515e9d09e1f"
      },
      "source": [
        "import pandas as pd\n",
        "df = pd.DataFrame(columns=['x'])\n",
        "for i in range(0,1000):\n",
        "    df=df.append({'x': st.norm.rvs(0,1,5).mean()}, ignore_index=True)\n",
        "df.mean()"
      ],
      "execution_count": null,
      "outputs": [
        {
          "output_type": "execute_result",
          "data": {
            "text/plain": [
              "x   -0.002836\n",
              "dtype: float64"
            ]
          },
          "metadata": {
            "tags": []
          },
          "execution_count": 21
        }
      ]
    },
    {
      "cell_type": "code",
      "metadata": {
        "id": "j8xulfXzLsnS",
        "colab": {
          "base_uri": "https://localhost:8080/",
          "height": 282
        },
        "outputId": "880f6743-08f1-4bca-9b7e-e9a3878f91e4"
      },
      "source": [
        "df5=df.astype(float)\n",
        "pd.DataFrame(df5).plot.kde(bw_method=0.3)"
      ],
      "execution_count": null,
      "outputs": [
        {
          "output_type": "execute_result",
          "data": {
            "text/plain": [
              "<matplotlib.axes._subplots.AxesSubplot at 0x7f3f33bf83c8>"
            ]
          },
          "metadata": {
            "tags": []
          },
          "execution_count": 22
        },
        {
          "output_type": "display_data",
          "data": {
            "image/png": "[encoded data removed]",
            "text/plain": [
              "<Figure size 432x288 with 1 Axes>"
            ]
          },
          "metadata": {
            "tags": [],
            "needs_background": "light"
          }
        }
      ]
    },
    {
      "cell_type": "code",
      "metadata": {
        "id": "1rpQVwigLsNX",
        "colab": {
          "base_uri": "https://localhost:8080/",
          "height": 51
        },
        "outputId": "291edf42-0dc7-476d-e95d-a99fef5c84a3"
      },
      "source": [
        "import pandas as pd\n",
        "df = pd.DataFrame(columns=['x'])\n",
        "for i in range(0,1000):\n",
        "    df=df.append({'x': st.norm.rvs(0,1,30).mean()}, ignore_index=True)\n",
        "df.mean()"
      ],
      "execution_count": null,
      "outputs": [
        {
          "output_type": "execute_result",
          "data": {
            "text/plain": [
              "x   -0.000734\n",
              "dtype: float64"
            ]
          },
          "metadata": {
            "tags": []
          },
          "execution_count": 23
        }
      ]
    },
    {
      "cell_type": "code",
      "metadata": {
        "id": "Oi8OxL_YLsBE",
        "colab": {
          "base_uri": "https://localhost:8080/",
          "height": 282
        },
        "outputId": "31464655-824e-489c-cd50-80f701ba8668"
      },
      "source": [
        "df30=df.astype(float)\n",
        "pd.DataFrame(df30).plot.kde(bw_method=0.3)"
      ],
      "execution_count": null,
      "outputs": [
        {
          "output_type": "execute_result",
          "data": {
            "text/plain": [
              "<matplotlib.axes._subplots.AxesSubplot at 0x7f3f33735a90>"
            ]
          },
          "metadata": {
            "tags": []
          },
          "execution_count": 24
        },
        {
          "output_type": "display_data",
          "data": {
            "image/png": "[encoded data removed]",
            "text/plain": [
              "<Figure size 432x288 with 1 Axes>"
            ]
          },
          "metadata": {
            "tags": [],
            "needs_background": "light"
          }
        }
      ]
    },
    {
      "cell_type": "markdown",
      "metadata": {
        "id": "poBlrwUz_m0L"
      },
      "source": [
        "### 06.03.수"
      ]
    },
    {
      "cell_type": "code",
      "metadata": {
        "id": "4ugQjEk3_vrn",
        "colab": {
          "base_uri": "https://localhost:8080/",
          "height": 204
        },
        "outputId": "86dd1838-1dbd-46ae-a433-b7ea3c41983e"
      },
      "source": [
        "import pandas as pd\n",
        "df = pd.DataFrame(columns=['x'])\n",
        "for i in range(0,5):\n",
        "    df=df.append({'x': i}, ignore_index=True)\n",
        "df"
      ],
      "execution_count": null,
      "outputs": [
        {
          "output_type": "execute_result",
          "data": {
            "text/html": [
              "<div>\n",
              "<style scoped>\n",
              "    .dataframe tbody tr th:only-of-type {\n",
              "        vertical-align: middle;\n",
              "    }\n",
              "\n",
              "    .dataframe tbody tr th {\n",
              "        vertical-align: top;\n",
              "    }\n",
              "\n",
              "    .dataframe thead th {\n",
              "        text-align: right;\n",
              "    }\n",
              "</style>\n",
              "<table border=\"1\" class=\"dataframe\">\n",
              "  <thead>\n",
              "    <tr style=\"text-align: right;\">\n",
              "      <th></th>\n",
              "      <th>x</th>\n",
              "    </tr>\n",
              "  </thead>\n",
              "  <tbody>\n",
              "    <tr>\n",
              "      <th>0</th>\n",
              "      <td>0</td>\n",
              "    </tr>\n",
              "    <tr>\n",
              "      <th>1</th>\n",
              "      <td>1</td>\n",
              "    </tr>\n",
              "    <tr>\n",
              "      <th>2</th>\n",
              "      <td>2</td>\n",
              "    </tr>\n",
              "    <tr>\n",
              "      <th>3</th>\n",
              "      <td>3</td>\n",
              "    </tr>\n",
              "    <tr>\n",
              "      <th>4</th>\n",
              "      <td>4</td>\n",
              "    </tr>\n",
              "  </tbody>\n",
              "</table>\n",
              "</div>"
            ],
            "text/plain": [
              "   x\n",
              "0  0\n",
              "1  1\n",
              "2  2\n",
              "3  3\n",
              "4  4"
            ]
          },
          "metadata": {
            "tags": []
          },
          "execution_count": 25
        }
      ]
    },
    {
      "cell_type": "code",
      "metadata": {
        "id": "iX3HQGWnBPrY",
        "colab": {
          "base_uri": "https://localhost:8080/",
          "height": 34
        },
        "outputId": "b0ff6a0c-5403-4bda-ef30-587946a7430e"
      },
      "source": [
        "import scipy.stats as st\n",
        "st.uniform.rvs(0,1,1)"
      ],
      "execution_count": null,
      "outputs": [
        {
          "output_type": "execute_result",
          "data": {
            "text/plain": [
              "array([0.71796305])"
            ]
          },
          "metadata": {
            "tags": []
          },
          "execution_count": 26
        }
      ]
    },
    {
      "cell_type": "code",
      "metadata": {
        "id": "6BTwxOfPB-f4"
      },
      "source": [
        "import pandas as pd\n",
        "df = pd.DataFrame(columns=['x'])\n",
        "for i in range(0,1000):\n",
        "    df=df.append({'x': st.uniform.rvs(0,1,1)}, ignore_index=True)"
      ],
      "execution_count": null,
      "outputs": []
    },
    {
      "cell_type": "code",
      "metadata": {
        "id": "zighfQntEaWJ",
        "colab": {
          "base_uri": "https://localhost:8080/",
          "height": 153
        },
        "outputId": "6b4d211c-732c-46c8-da51-3d9a0088c272"
      },
      "source": [
        "df.info()"
      ],
      "execution_count": null,
      "outputs": [
        {
          "output_type": "stream",
          "text": [
            "<class 'pandas.core.frame.DataFrame'>\n",
            "RangeIndex: 1000 entries, 0 to 999\n",
            "Data columns (total 1 columns):\n",
            " #   Column  Non-Null Count  Dtype \n",
            "---  ------  --------------  ----- \n",
            " 0   x       1000 non-null   object\n",
            "dtypes: object(1)\n",
            "memory usage: 7.9+ KB\n"
          ],
          "name": "stdout"
        }
      ]
    },
    {
      "cell_type": "code",
      "metadata": {
        "id": "EQE5pOsy_va8",
        "colab": {
          "base_uri": "https://localhost:8080/",
          "height": 265
        },
        "outputId": "4fa65891-a8ba-4b9c-b610-671f6d6f3e6f"
      },
      "source": [
        "df0=df.astype(float)\n",
        "import matplotlib.pyplot as plt\n",
        "plt.hist(df0)\n",
        "plt.show()"
      ],
      "execution_count": null,
      "outputs": [
        {
          "output_type": "display_data",
          "data": {
            "image/png": "[encoded data removed]",
            "text/plain": [
              "<Figure size 432x288 with 1 Axes>"
            ]
          },
          "metadata": {
            "tags": [],
            "needs_background": "light"
          }
        }
      ]
    },
    {
      "cell_type": "code",
      "metadata": {
        "id": "5P6Md2Rd_vL7",
        "colab": {
          "base_uri": "https://localhost:8080/",
          "height": 282
        },
        "outputId": "7ac4d078-af70-402e-f6a7-f84c5031f985"
      },
      "source": [
        "pd.DataFrame(df0).plot.kde(bw_method=0.3)"
      ],
      "execution_count": null,
      "outputs": [
        {
          "output_type": "execute_result",
          "data": {
            "text/plain": [
              "<matplotlib.axes._subplots.AxesSubplot at 0x7f3f3368de80>"
            ]
          },
          "metadata": {
            "tags": []
          },
          "execution_count": 30
        },
        {
          "output_type": "display_data",
          "data": {
            "image/png": "[encoded data removed]",
            "text/plain": [
              "<Figure size 432x288 with 1 Axes>"
            ]
          },
          "metadata": {
            "tags": [],
            "needs_background": "light"
          }
        }
      ]
    },
    {
      "cell_type": "code",
      "metadata": {
        "id": "FB_LPRHD_uoQ",
        "colab": {
          "base_uri": "https://localhost:8080/",
          "height": 34
        },
        "outputId": "134fe246-d6ee-434a-e3b0-0f8b99fdc712"
      },
      "source": [
        "st.uniform.rvs(0,1,2).mean()"
      ],
      "execution_count": null,
      "outputs": [
        {
          "output_type": "execute_result",
          "data": {
            "text/plain": [
              "0.5011547134997703"
            ]
          },
          "metadata": {
            "tags": []
          },
          "execution_count": 31
        }
      ]
    },
    {
      "cell_type": "code",
      "metadata": {
        "id": "fLyPq3dl_u60",
        "colab": {
          "base_uri": "https://localhost:8080/",
          "height": 419
        },
        "outputId": "4d1c942f-b399-405c-db6f-fcf5783e1efe"
      },
      "source": [
        "df = pd.DataFrame(columns=['x'])\n",
        "for i in range(0,1000):\n",
        "    df=df.append({'x': st.uniform.rvs(0,1,20).mean()}, ignore_index=True)\n",
        "df"
      ],
      "execution_count": null,
      "outputs": [
        {
          "output_type": "execute_result",
          "data": {
            "text/html": [
              "<div>\n",
              "<style scoped>\n",
              "    .dataframe tbody tr th:only-of-type {\n",
              "        vertical-align: middle;\n",
              "    }\n",
              "\n",
              "    .dataframe tbody tr th {\n",
              "        vertical-align: top;\n",
              "    }\n",
              "\n",
              "    .dataframe thead th {\n",
              "        text-align: right;\n",
              "    }\n",
              "</style>\n",
              "<table border=\"1\" class=\"dataframe\">\n",
              "  <thead>\n",
              "    <tr style=\"text-align: right;\">\n",
              "      <th></th>\n",
              "      <th>x</th>\n",
              "    </tr>\n",
              "  </thead>\n",
              "  <tbody>\n",
              "    <tr>\n",
              "      <th>0</th>\n",
              "      <td>0.426815</td>\n",
              "    </tr>\n",
              "    <tr>\n",
              "      <th>1</th>\n",
              "      <td>0.525462</td>\n",
              "    </tr>\n",
              "    <tr>\n",
              "      <th>2</th>\n",
              "      <td>0.412771</td>\n",
              "    </tr>\n",
              "    <tr>\n",
              "      <th>3</th>\n",
              "      <td>0.513381</td>\n",
              "    </tr>\n",
              "    <tr>\n",
              "      <th>4</th>\n",
              "      <td>0.458673</td>\n",
              "    </tr>\n",
              "    <tr>\n",
              "      <th>...</th>\n",
              "      <td>...</td>\n",
              "    </tr>\n",
              "    <tr>\n",
              "      <th>995</th>\n",
              "      <td>0.506852</td>\n",
              "    </tr>\n",
              "    <tr>\n",
              "      <th>996</th>\n",
              "      <td>0.398813</td>\n",
              "    </tr>\n",
              "    <tr>\n",
              "      <th>997</th>\n",
              "      <td>0.532819</td>\n",
              "    </tr>\n",
              "    <tr>\n",
              "      <th>998</th>\n",
              "      <td>0.469118</td>\n",
              "    </tr>\n",
              "    <tr>\n",
              "      <th>999</th>\n",
              "      <td>0.560848</td>\n",
              "    </tr>\n",
              "  </tbody>\n",
              "</table>\n",
              "<p>1000 rows × 1 columns</p>\n",
              "</div>"
            ],
            "text/plain": [
              "            x\n",
              "0    0.426815\n",
              "1    0.525462\n",
              "2    0.412771\n",
              "3    0.513381\n",
              "4    0.458673\n",
              "..        ...\n",
              "995  0.506852\n",
              "996  0.398813\n",
              "997  0.532819\n",
              "998  0.469118\n",
              "999  0.560848\n",
              "\n",
              "[1000 rows x 1 columns]"
            ]
          },
          "metadata": {
            "tags": []
          },
          "execution_count": 32
        }
      ]
    },
    {
      "cell_type": "code",
      "metadata": {
        "id": "6Ju4N4X0_uUK",
        "colab": {
          "base_uri": "https://localhost:8080/",
          "height": 265
        },
        "outputId": "bbd9b3d1-72b3-4848-a88e-9c58da0c1e68"
      },
      "source": [
        "df0=df.astype(float)\n",
        "import matplotlib.pyplot as plt\n",
        "plt.hist(df0,bins=10)\n",
        "plt.show()"
      ],
      "execution_count": null,
      "outputs": [
        {
          "output_type": "display_data",
          "data": {
            "image/png": "[encoded data removed]",
            "text/plain": [
              "<Figure size 432x288 with 1 Axes>"
            ]
          },
          "metadata": {
            "tags": [],
            "needs_background": "light"
          }
        }
      ]
    },
    {
      "cell_type": "code",
      "metadata": {
        "id": "FgwdCi72_t-E",
        "colab": {
          "base_uri": "https://localhost:8080/",
          "height": 282
        },
        "outputId": "40991d08-bdc7-4a68-d82e-118c8bc88e6b"
      },
      "source": [
        "pd.DataFrame(df0).plot.kde(bw_method=0.3)"
      ],
      "execution_count": null,
      "outputs": [
        {
          "output_type": "execute_result",
          "data": {
            "text/plain": [
              "<matplotlib.axes._subplots.AxesSubplot at 0x7f3f2fe45278>"
            ]
          },
          "metadata": {
            "tags": []
          },
          "execution_count": 34
        },
        {
          "output_type": "display_data",
          "data": {
            "image/png": "[encoded data removed]",
            "text/plain": [
              "<Figure size 432x288 with 1 Axes>"
            ]
          },
          "metadata": {
            "tags": [],
            "needs_background": "light"
          }
        }
      ]
    },
    {
      "cell_type": "code",
      "metadata": {
        "id": "f7i3l4RkHwbi",
        "colab": {
          "base_uri": "https://localhost:8080/",
          "height": 51
        },
        "outputId": "095a5b42-7a07-4824-e6f5-85d317a4517b"
      },
      "source": [
        "import pandas as pd\n",
        "df = pd.DataFrame(columns=['x'])\n",
        "for i in range(0,100):\n",
        "    df=df.append({'x': st.gamma.rvs(1,0,2,2).mean()}, ignore_index=True)\n",
        "df.mean()"
      ],
      "execution_count": null,
      "outputs": [
        {
          "output_type": "execute_result",
          "data": {
            "text/plain": [
              "x    2.013401\n",
              "dtype: float64"
            ]
          },
          "metadata": {
            "tags": []
          },
          "execution_count": 35
        }
      ]
    },
    {
      "cell_type": "code",
      "metadata": {
        "id": "CpXRKc96_tsC",
        "colab": {
          "base_uri": "https://localhost:8080/",
          "height": 282
        },
        "outputId": "c7941ac0-26e9-4e97-ebea-686f815769a3"
      },
      "source": [
        "pd.DataFrame(df0).plot.kde(bw_method=0.3)"
      ],
      "execution_count": null,
      "outputs": [
        {
          "output_type": "execute_result",
          "data": {
            "text/plain": [
              "<matplotlib.axes._subplots.AxesSubplot at 0x7f3f322129b0>"
            ]
          },
          "metadata": {
            "tags": []
          },
          "execution_count": 36
        },
        {
          "output_type": "display_data",
          "data": {
            "image/png": "[encoded data removed]",
            "text/plain": [
              "<Figure size 432x288 with 1 Axes>"
            ]
          },
          "metadata": {
            "tags": [],
            "needs_background": "light"
          }
        }
      ]
    },
    {
      "cell_type": "markdown",
      "metadata": {
        "id": "YwWN2luuNqDF"
      },
      "source": [
        "### 06.01.월"
      ]
    },
    {
      "cell_type": "markdown",
      "metadata": {
        "id": "FFqzViWLckLR"
      },
      "source": [
        "![image.png](data:image/png;base64,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)"
      ]
    },
    {
      "cell_type": "code",
      "metadata": {
        "id": "uhzm8xW0N1sD"
      },
      "source": [
        "import scipy.stats as st\n",
        "import numpy as np\n",
        "x = np.arange(4,22,0.1)\n",
        "fx = st.norm.pdf(x,13,3)"
      ],
      "execution_count": null,
      "outputs": []
    },
    {
      "cell_type": "code",
      "metadata": {
        "id": "NQwu1qImaY1x",
        "colab": {
          "base_uri": "https://localhost:8080/",
          "height": 265
        },
        "outputId": "a4f258b5-711e-43e0-fcb0-fac45696357a"
      },
      "source": [
        "import matplotlib.pyplot as plt\n",
        "plt.plot(x,fx)\n",
        "plt.show()"
      ],
      "execution_count": null,
      "outputs": [
        {
          "output_type": "display_data",
          "data": {
            "image/png": "[encoded data removed]",
            "text/plain": [
              "<Figure size 432x288 with 1 Axes>"
            ]
          },
          "metadata": {
            "tags": [],
            "needs_background": "light"
          }
        }
      ]
    },
    {
      "cell_type": "markdown",
      "metadata": {
        "id": "TzrTstIWes0Z"
      },
      "source": [
        "N(13,3)으로부터 확률표본 200개를 추출하시오."
      ]
    },
    {
      "cell_type": "code",
      "metadata": {
        "id": "nM_lU_IPN1cw",
        "colab": {
          "base_uri": "https://localhost:8080/",
          "height": 34
        },
        "outputId": "b515117e-5b81-407c-d24e-c9cc768b941e"
      },
      "source": [
        "sample = st.norm.rvs(13,3,200)\n",
        "print('표본평균 = %.2f, 표본표준편차 = %.3f' %(sample.mean(), sample.std()))"
      ],
      "execution_count": null,
      "outputs": [
        {
          "output_type": "stream",
          "text": [
            "표본평균 = 13.02, 표본표준편차 = 3.153\n"
          ],
          "name": "stdout"
        }
      ]
    },
    {
      "cell_type": "code",
      "metadata": {
        "id": "XQ86V1bnN1A1",
        "colab": {
          "base_uri": "https://localhost:8080/",
          "height": 268
        },
        "outputId": "9de9bc25-d389-4ed0-d1f8-e5b810557682"
      },
      "source": [
        "plt.hist(sample, bins=18)\n",
        "plt.show()"
      ],
      "execution_count": null,
      "outputs": [
        {
          "output_type": "display_data",
          "data": {
            "image/png": "[encoded data removed]",
            "text/plain": [
              "<Figure size 432x288 with 1 Axes>"
            ]
          },
          "metadata": {
            "tags": [],
            "needs_background": "light"
          }
        }
      ]
    },
    {
      "cell_type": "code",
      "metadata": {
        "id": "fII87_KHN0PD",
        "colab": {
          "base_uri": "https://localhost:8080/",
          "height": 282
        },
        "outputId": "1c77cffa-33ad-4149-be3f-815b84ad7439"
      },
      "source": [
        "import pandas as pd\n",
        "pd.DataFrame(sample).plot.kde(bw_method=0.3)"
      ],
      "execution_count": null,
      "outputs": [
        {
          "output_type": "execute_result",
          "data": {
            "text/plain": [
              "<matplotlib.axes._subplots.AxesSubplot at 0x7f3f33351a20>"
            ]
          },
          "metadata": {
            "tags": []
          },
          "execution_count": 41
        },
        {
          "output_type": "display_data",
          "data": {
            "image/png": "[encoded data removed]",
            "text/plain": [
              "<Figure size 432x288 with 1 Axes>"
            ]
          },
          "metadata": {
            "tags": [],
            "needs_background": "light"
          }
        }
      ]
    },
    {
      "cell_type": "markdown",
      "metadata": {
        "id": "z0syQ_vfj1SD"
      },
      "source": [
        "Mission\n",
        "> 알파 =1, 베타(쎄타)=1/scale=0.5인 감마분포로부터 표본크기 100인 확률표본의 평균과 표준편차를 출력하고 KDE 분포함수를 그리시오."
      ]
    },
    {
      "cell_type": "code",
      "metadata": {
        "id": "5QqeRKCklSHG",
        "colab": {
          "base_uri": "https://localhost:8080/",
          "height": 265
        },
        "outputId": "7b142154-7bb3-4702-f630-8025b8133f11"
      },
      "source": [
        "import scipy.stats as st\n",
        "import numpy as np\n",
        "x = np.arange(0,5,0.1)\n",
        "fx = st.gamma.pdf(x,1,0,2)\n",
        "import matplotlib.pyplot as plt\n",
        "plt.plot(x,fx)\n",
        "plt.show()"
      ],
      "execution_count": null,
      "outputs": [
        {
          "output_type": "display_data",
          "data": {
            "image/png": "[encoded data removed]",
            "text/plain": [
              "<Figure size 432x288 with 1 Axes>"
            ]
          },
          "metadata": {
            "tags": [],
            "needs_background": "light"
          }
        }
      ]
    },
    {
      "cell_type": "code",
      "metadata": {
        "id": "3mipx5YUoah2",
        "colab": {
          "base_uri": "https://localhost:8080/",
          "height": 34
        },
        "outputId": "0c8e6a06-918c-4bc5-963a-4d0d131b9567"
      },
      "source": [
        "sample = st.gamma.rvs(1,0,0.5,100)\n",
        "print('표본평균 = %.2f, 표본표준편차 = %.3f' %(sample.mean(), sample.std()))"
      ],
      "execution_count": null,
      "outputs": [
        {
          "output_type": "stream",
          "text": [
            "표본평균 = 0.46, 표본표준편차 = 0.492\n"
          ],
          "name": "stdout"
        }
      ]
    },
    {
      "cell_type": "code",
      "metadata": {
        "id": "S6RR1Yrkom_V",
        "colab": {
          "base_uri": "https://localhost:8080/",
          "height": 282
        },
        "outputId": "73af708f-1606-45b1-db60-b90b2b104b01"
      },
      "source": [
        "import pandas as pd\n",
        "pd.DataFrame(sample).plot.kde(bw_method=0.3)"
      ],
      "execution_count": null,
      "outputs": [
        {
          "output_type": "execute_result",
          "data": {
            "text/plain": [
              "<matplotlib.axes._subplots.AxesSubplot at 0x7f3f32943668>"
            ]
          },
          "metadata": {
            "tags": []
          },
          "execution_count": 44
        },
        {
          "output_type": "display_data",
          "data": {
            "image/png": "[encoded data removed]",
            "text/plain": [
              "<Figure size 432x288 with 1 Axes>"
            ]
          },
          "metadata": {
            "tags": [],
            "needs_background": "light"
          }
        }
      ]
    },
    {
      "cell_type": "markdown",
      "metadata": {
        "id": "9I5HKHbON7WZ"
      },
      "source": [
        "### 05.25.월"
      ]
    },
    {
      "cell_type": "markdown",
      "metadata": {
        "id": "3IujCFFiUOhV"
      },
      "source": [
        "#### 균일분포 Uniform Distribution X ∼ U(a, b)"
      ]
    },
    {
      "cell_type": "code",
      "metadata": {
        "id": "eWqfnQuTOvbI",
        "colab": {
          "base_uri": "https://localhost:8080/",
          "height": 54
        },
        "outputId": "2558a550-2cf5-4151-98fa-6e62f348e733"
      },
      "source": [
        "import scipy.stats as st\n",
        "st.uniform.rvs(0,1,10000000).mean()"
      ],
      "execution_count": null,
      "outputs": [
        {
          "output_type": "execute_result",
          "data": {
            "text/plain": [
              "0.4999387806891556"
            ]
          },
          "metadata": {
            "tags": []
          },
          "execution_count": 45
        }
      ]
    },
    {
      "cell_type": "markdown",
      "metadata": {
        "id": "NjxCVHFZP52V"
      },
      "source": [
        "만약 낙하산이 marker 0(A)과 10m(B) 사이에 임의의 지점에 떨어진다고 하자.\n",
        "\n",
        "(1)낙하산이 B 보다 A 지점에 더 가까이 떨어질 확률을 구하시오.\n",
        "\n",
        "(2)낙하산 떨어진 지점에서 지점 A까지의 거리가 지점 B까지의 거리의 3배 이상일 확률을 구하시오.\n",
        "\n",
        "(3)3개의 낙하산 중 정확하게 한 개만 지점 B에 가까이 떨어질 확률을 구하시오."
      ]
    },
    {
      "cell_type": "code",
      "metadata": {
        "id": "E2DlS9CuQt-f",
        "colab": {
          "base_uri": "https://localhost:8080/",
          "height": 54
        },
        "outputId": "4fcedd6b-dcd0-4e82-9343-2b4b020b9af8"
      },
      "source": [
        "#1 1-st.uniform.cdf(5,0,10)\n",
        "#2 1-st.uniform.cdf(7.5,0,10)\n",
        "st.binom.pmf(1,3,0.5)"
      ],
      "execution_count": null,
      "outputs": [
        {
          "output_type": "execute_result",
          "data": {
            "text/plain": [
              "0.375"
            ]
          },
          "metadata": {
            "tags": []
          },
          "execution_count": 46
        }
      ]
    },
    {
      "cell_type": "markdown",
      "metadata": {
        "id": "7EyxWiYuUY_-"
      },
      "source": [
        "#### 지수분포 Exponential Distribution X ∼ Exp(θ = 1/λ)\n"
      ]
    },
    {
      "cell_type": "markdown",
      "metadata": {
        "id": "0oLs_w_bVGCl"
      },
      "source": [
        "난수를 이용하여 지수분포를 따르는 확률변수 생성이 가능 -> 지수분포를 이용하여 모든 연속형 확률변\n",
        "수 생성이 가능하다."
      ]
    },
    {
      "cell_type": "markdown",
      "metadata": {
        "id": "am4fPROtVFhr"
      },
      "source": [
        "(1) Y ∼ U(0,1) 난수를 생성한다. 100개를 생성한다."
      ]
    },
    {
      "cell_type": "code",
      "metadata": {
        "id": "2uYGvUQJVSVx"
      },
      "source": [
        "y = st.uniform.rvs(0,1,100)"
      ],
      "execution_count": null,
      "outputs": []
    },
    {
      "cell_type": "code",
      "metadata": {
        "id": "iZjrTWwsVeJM",
        "colab": {
          "base_uri": "https://localhost:8080/",
          "height": 139
        },
        "outputId": "831afa3a-7dda-4edc-ec2d-8633bd5b3c00"
      },
      "source": [
        "import matplotlib.pyplot as plt\n",
        "plt.hist(y,bins=10)"
      ],
      "execution_count": null,
      "outputs": [
        {
          "output_type": "execute_result",
          "data": {
            "text/plain": [
              "(array([ 9., 15.,  8., 12.,  8.,  8., 10.,  9.,  8., 13.]),\n",
              " array([0.01238252, 0.11113142, 0.20988032, 0.30862922, 0.40737812,\n",
              "        0.50612702, 0.60487592, 0.70362482, 0.80237372, 0.90112262,\n",
              "        0.99987152]),\n",
              " <a list of 10 Patch objects>)"
            ]
          },
          "metadata": {
            "tags": []
          },
          "execution_count": 48
        },
        {
          "output_type": "display_data",
          "data": {
            "image/png": "[encoded data removed]",
            "text/plain": [
              "<Figure size 432x288 with 1 Axes>"
            ]
          },
          "metadata": {
            "tags": [],
            "needs_background": "light"
          }
        }
      ]
    },
    {
      "cell_type": "code",
      "metadata": {
        "id": "_28mSkukW9z1",
        "colab": {
          "base_uri": "https://localhost:8080/",
          "height": 54
        },
        "outputId": "ccd3ab73-adcf-40e6-ff64-1fc064989932"
      },
      "source": [
        "y.mean()"
      ],
      "execution_count": null,
      "outputs": [
        {
          "output_type": "execute_result",
          "data": {
            "text/plain": [
              "0.5006937981085156"
            ]
          },
          "metadata": {
            "tags": []
          },
          "execution_count": 49
        }
      ]
    },
    {
      "cell_type": "markdown",
      "metadata": {
        "id": "htwp5AKvVbky"
      },
      "source": [
        " (2) F(x) = 1 − e^−x = Y (3) 이를 확률변수\n",
        "X에 대하여 풀면 X = − ln(1 − Y), 이는 지수분포(λ = 1) 생성할 수 있다."
      ]
    },
    {
      "cell_type": "code",
      "metadata": {
        "id": "GNM6IqPpWvG5"
      },
      "source": [
        "import numpy as np\n",
        "x = -3*np.log(1-y)"
      ],
      "execution_count": null,
      "outputs": []
    },
    {
      "cell_type": "code",
      "metadata": {
        "id": "ookOZHRnXJhx",
        "colab": {
          "base_uri": "https://localhost:8080/",
          "height": 139
        },
        "outputId": "cdd6af31-9741-47cf-a3cd-97e861320139"
      },
      "source": [
        "plt.hist(x)"
      ],
      "execution_count": null,
      "outputs": [
        {
          "output_type": "execute_result",
          "data": {
            "text/plain": [
              "(array([60., 21.,  6.,  4.,  5.,  2.,  0.,  1.,  0.,  1.]),\n",
              " array([ 0.03737947,  2.72155189,  5.4057243 ,  8.08989672, 10.77406914,\n",
              "        13.45824155, 16.14241397, 18.82658639, 21.5107588 , 24.19493122,\n",
              "        26.87910364]),\n",
              " <a list of 10 Patch objects>)"
            ]
          },
          "metadata": {
            "tags": []
          },
          "execution_count": 51
        },
        {
          "output_type": "display_data",
          "data": {
            "image/png": "[encoded data removed]",
            "text/plain": [
              "<Figure size 432x288 with 1 Axes>"
            ]
          },
          "metadata": {
            "tags": [],
            "needs_background": "light"
          }
        }
      ]
    },
    {
      "cell_type": "code",
      "metadata": {
        "id": "txNzlLm9ZUlJ",
        "colab": {
          "base_uri": "https://localhost:8080/",
          "height": 54
        },
        "outputId": "a3c45447-2e9b-407b-ea8c-69aca6731506"
      },
      "source": [
        "x.mean()"
      ],
      "execution_count": null,
      "outputs": [
        {
          "output_type": "execute_result",
          "data": {
            "text/plain": [
              "3.5508489117130977"
            ]
          },
          "metadata": {
            "tags": []
          },
          "execution_count": 52
        }
      ]
    },
    {
      "cell_type": "markdown",
      "metadata": {
        "id": "GqAWrr-OZpYd"
      },
      "source": [
        "#### 감마분포 Gamma Distribution X ∼ Gamma(α, β = 1/λ)\n"
      ]
    },
    {
      "cell_type": "markdown",
      "metadata": {
        "id": "NbJhSDdCbLyS"
      },
      "source": [
        "scale papameter = 0.5인 지수분포 100개 생성"
      ]
    },
    {
      "cell_type": "code",
      "metadata": {
        "id": "CNl72HI2Z0hi",
        "colab": {
          "base_uri": "https://localhost:8080/",
          "height": 54
        },
        "outputId": "ffe3b0c0-6088-4b9a-8754-8a708b9c2b07"
      },
      "source": [
        "st.expon.rvs(0,0.5,100).mean()"
      ],
      "execution_count": null,
      "outputs": [
        {
          "output_type": "execute_result",
          "data": {
            "text/plain": [
              "0.4042095362445752"
            ]
          },
          "metadata": {
            "tags": []
          },
          "execution_count": 53
        }
      ]
    },
    {
      "cell_type": "markdown",
      "metadata": {
        "id": "LgiMSrsTaTjx"
      },
      "source": [
        "감마분포(alpha=3, beta=0.59)를  따르는 확률변수 100개를 생성하시오."
      ]
    },
    {
      "cell_type": "code",
      "metadata": {
        "id": "kNCNPmlZbAJ-",
        "colab": {
          "base_uri": "https://localhost:8080/",
          "height": 54
        },
        "outputId": "edb73a37-4491-4fe0-d2cd-2cc3c7749c62"
      },
      "source": [
        "y = st.expon.rvs(0,0.5,100)+st.expon.rvs(0,0.5,100)+st.expon.rvs(0,0.5,100)\n",
        "y.mean()"
      ],
      "execution_count": null,
      "outputs": [
        {
          "output_type": "execute_result",
          "data": {
            "text/plain": [
              "1.4974858005658422"
            ]
          },
          "metadata": {
            "tags": []
          },
          "execution_count": 54
        }
      ]
    },
    {
      "cell_type": "code",
      "metadata": {
        "id": "jBx91-YjcIgS",
        "colab": {
          "base_uri": "https://localhost:8080/",
          "height": 54
        },
        "outputId": "7ffc2e10-c460-402a-e5c3-19069a6de151"
      },
      "source": [
        "st.gamma.rvs(3,0,0.5,100).mean()"
      ],
      "execution_count": null,
      "outputs": [
        {
          "output_type": "execute_result",
          "data": {
            "text/plain": [
              "1.3904452108665126"
            ]
          },
          "metadata": {
            "tags": []
          },
          "execution_count": 55
        }
      ]
    },
    {
      "cell_type": "markdown",
      "metadata": {
        "id": "MuWtP9ebdtoK"
      },
      "source": [
        "은행 고객이 ATM 머신을 방문 회수는 5분당 2명이다.\n",
        "\n",
        "9시에 첫 고객이 ATM 머신을 방문하였다. 다음 고객이 9시 3분 이후에 올 확률을 구하시오.\n",
        "\n",
        "x = 고객이 오는데 걸리는 시간\n",
        "λ = 2/5\n",
        "P(x>=3|x_exp(deta=1/(2/5))"
      ]
    },
    {
      "cell_type": "code",
      "metadata": {
        "id": "14tsca4ScMqy",
        "colab": {
          "base_uri": "https://localhost:8080/",
          "height": 54
        },
        "outputId": "3aa0cae8-ba5e-44b3-a444-72ad44f419e7"
      },
      "source": [
        "1 - st.gamma.cdf(3,1,0,5/2)"
      ],
      "execution_count": null,
      "outputs": [
        {
          "output_type": "execute_result",
          "data": {
            "text/plain": [
              "0.3011942119122021"
            ]
          },
          "metadata": {
            "tags": []
          },
          "execution_count": 56
        }
      ]
    },
    {
      "cell_type": "markdown",
      "metadata": {
        "id": "ULIzgGAQh6ub"
      },
      "source": [
        "은행 고객이 ATM 머신을 방문 회수는 5분당 2명이다.\n",
        "\n",
        "9시에 첫 고객이 ATM 머신을 방문하였다. 세번째 고객이 9시 5분 이내에 올 확률을 구하시오."
      ]
    },
    {
      "cell_type": "code",
      "metadata": {
        "id": "6nWZetqVeLan",
        "colab": {
          "base_uri": "https://localhost:8080/",
          "height": 54
        },
        "outputId": "f4aaafb5-c1d7-4797-fef2-0a40c1cfc0ac"
      },
      "source": [
        "st.gamma.cdf(5,2,0,5/2)"
      ],
      "execution_count": null,
      "outputs": [
        {
          "output_type": "execute_result",
          "data": {
            "text/plain": [
              "0.5939941502901616"
            ]
          },
          "metadata": {
            "tags": []
          },
          "execution_count": 57
        }
      ]
    },
    {
      "cell_type": "markdown",
      "metadata": {
        "id": "2Mb0byx0kDAS"
      },
      "source": [
        "### 05.20.수"
      ]
    },
    {
      "cell_type": "markdown",
      "metadata": {
        "id": "rRlmWNXA_Wa-"
      },
      "source": [
        "이항분포와 포아송 분포 관계\n",
        "\n",
        "> 우리 대학에서 헌혈 가능자가 10%이다. 500명을 임의 추출하였을 때 120명 이상이 헌혈 가능자일 확률을 구하시오."
      ]
    },
    {
      "cell_type": "code",
      "metadata": {
        "id": "zu-CggvbciQH"
      },
      "source": [
        "import scipy.stats as st"
      ],
      "execution_count": null,
      "outputs": []
    },
    {
      "cell_type": "code",
      "metadata": {
        "id": "32iZoiE8AAQg",
        "colab": {
          "base_uri": "https://localhost:8080/",
          "height": 34
        },
        "outputId": "4d78278b-a68b-40af-861d-34d6228b3715"
      },
      "source": [
        "1 - st.binom.cdf(59,500,0.1)"
      ],
      "execution_count": null,
      "outputs": [
        {
          "output_type": "execute_result",
          "data": {
            "text/plain": [
              "0.08098716222702684"
            ]
          },
          "metadata": {
            "tags": []
          },
          "execution_count": 59
        }
      ]
    },
    {
      "cell_type": "code",
      "metadata": {
        "id": "HSPWLWtxAMwW",
        "colab": {
          "base_uri": "https://localhost:8080/",
          "height": 34
        },
        "outputId": "5d322cd7-1dd9-4b31-dadf-93ba79b9dd04"
      },
      "source": [
        "1 - st.poisson.cdf(59,50)"
      ],
      "execution_count": null,
      "outputs": [
        {
          "output_type": "execute_result",
          "data": {
            "text/plain": [
              "0.09226505195893298"
            ]
          },
          "metadata": {
            "tags": []
          },
          "execution_count": 60
        }
      ]
    },
    {
      "cell_type": "markdown",
      "metadata": {
        "id": "udfHiWTc6ngu"
      },
      "source": [
        "### 05.18.월"
      ]
    },
    {
      "cell_type": "markdown",
      "metadata": {
        "id": "WAwTtm11R5Pd"
      },
      "source": [
        "초원에 서식하는 얼룩말의 수는 1 Acre 당 평균 5마리이고 포아송 분포를 따른다고 하자. 10 Acre를 무작위 조사하였을 때 얼룩말을 하나도 보지 못할 확률은?\n",
        "\n",
        "\n",
        "P(X=0|X_poisson(lamda=50))"
      ]
    },
    {
      "cell_type": "code",
      "metadata": {
        "id": "60a03siyQKT4",
        "colab": {
          "base_uri": "https://localhost:8080/",
          "height": 34
        },
        "outputId": "8276798f-647c-4b7e-bad8-a71406426d55"
      },
      "source": [
        "import scipy.stats as st\n",
        "st.poisson.pmf(1,25)"
      ],
      "execution_count": null,
      "outputs": [
        {
          "output_type": "execute_result",
          "data": {
            "text/plain": [
              "3.471985966241e-10"
            ]
          },
          "metadata": {
            "tags": []
          },
          "execution_count": 61
        }
      ]
    },
    {
      "cell_type": "markdown",
      "metadata": {
        "id": "mJKijyl6SSO6"
      },
      "source": [
        "5 Acre를 무작위 조사하였을 때 얼룩말을 둘 이상 보지 못할 확률은?\n",
        "\n",
        "P(X>=2|X_poisson(lamda=25))\n",
        "P(X>=1|X_poisson(lamda=25)) = 1-P(X<=1|X_poisson(lamda=25)"
      ]
    },
    {
      "cell_type": "code",
      "metadata": {
        "id": "AMQ-0HT36qsb",
        "colab": {
          "base_uri": "https://localhost:8080/",
          "height": 34
        },
        "outputId": "7381be37-eaf3-44ef-a368-2a73c7e4765b"
      },
      "source": [
        "1-st.poisson.cdf(1,25)"
      ],
      "execution_count": null,
      "outputs": [
        {
          "output_type": "execute_result",
          "data": {
            "text/plain": [
              "0.9999999996389135"
            ]
          },
          "metadata": {
            "tags": []
          },
          "execution_count": 62
        }
      ]
    },
    {
      "cell_type": "markdown",
      "metadata": {
        "id": "svKbDs7uVaOQ"
      },
      "source": [
        "지리산에 멧돼지가 10마리 있다. 그리고 새로운 멧돼지 3마리에 표식하여 놓아주었다. 그리고 일정한 기간이 지난 후 3마리를 잡았을 때 표식이 있는 멧되지가 1마리 잡힐 확률을 구하시오."
      ]
    },
    {
      "cell_type": "markdown",
      "metadata": {
        "id": "Dhn9iY_QWn0Z"
      },
      "source": [
        "P(X=1|HG(M=13,n=3,N=3))"
      ]
    },
    {
      "cell_type": "code",
      "metadata": {
        "id": "MBaq-tpEVzBm",
        "colab": {
          "base_uri": "https://localhost:8080/",
          "height": 34
        },
        "outputId": "c9ea479b-3f4c-42a2-cc0b-d7dce8fede0d"
      },
      "source": [
        "st.hypergeom.pmf(1,13,3,3)"
      ],
      "execution_count": null,
      "outputs": [
        {
          "output_type": "execute_result",
          "data": {
            "text/plain": [
              "0.4720279720279718"
            ]
          },
          "metadata": {
            "tags": []
          },
          "execution_count": 63
        }
      ]
    },
    {
      "cell_type": "markdown",
      "metadata": {
        "id": "v51DyErQVG5J"
      },
      "source": [
        "초원에 서식하는 얼룩말 수(N)를 추정하려고 한다. M마리 얼룩말을 잡아 표식을 붙이고 놓아 주었다. 일정 기간이 지난 후 n마리 얼룩말을 잡아 표식 여부를 확인하였다. n마리 중 표식이 있는 얼룩말의 수를 확률변수라 정의하자. 그리고 M=4, n=3이라 가정하자.\n",
        "\n",
        "(1) P(X = 1) 일 확률을 구하시오.\n",
        "\n",
        "(2)을 최대화 하는 모집단 얼룩말 수 N을 추정하시오."
      ]
    },
    {
      "cell_type": "markdown",
      "metadata": {
        "id": "YXnGOY5RXy-w"
      },
      "source": [
        "P(X=1|HG(M=N+4,n=3,N))"
      ]
    },
    {
      "cell_type": "code",
      "metadata": {
        "id": "8JKpnQB1VXL9",
        "colab": {
          "base_uri": "https://localhost:8080/",
          "height": 282
        },
        "outputId": "0605b2f6-0edf-4fb2-a00e-44a97fba779d"
      },
      "source": [
        "import numpy as np\n",
        "N=np.arange(5,20)\n",
        "p=st.hypergeom.pmf(1,N+4,4,3)\n",
        "plt.axhline(0.51)\n",
        "plt.plot(N,p)"
      ],
      "execution_count": null,
      "outputs": [
        {
          "output_type": "execute_result",
          "data": {
            "text/plain": [
              "[<matplotlib.lines.Line2D at 0x7f3f340c3a58>]"
            ]
          },
          "metadata": {
            "tags": []
          },
          "execution_count": 64
        },
        {
          "output_type": "display_data",
          "data": {
            "image/png": "[encoded data removed]",
            "text/plain": [
              "<Figure size 432x288 with 1 Axes>"
            ]
          },
          "metadata": {
            "tags": [],
            "needs_background": "light"
          }
        }
      ]
    },
    {
      "cell_type": "markdown",
      "metadata": {
        "id": "klD1QLAvj6rk"
      },
      "source": [
        "7, 8마리"
      ]
    },
    {
      "cell_type": "markdown",
      "metadata": {
        "id": "ScpnZ47kbUyC"
      },
      "source": [
        "M=10, n=10\n",
        "\n",
        "(1) P(X = 2) 일 확률을 구하시오."
      ]
    },
    {
      "cell_type": "code",
      "metadata": {
        "id": "0yI9UoRTbWxp",
        "colab": {
          "base_uri": "https://localhost:8080/",
          "height": 282
        },
        "outputId": "b7168253-4f18-40cb-e107-b261db26c0d4"
      },
      "source": [
        "import numpy as np\n",
        "N=np.arange(35,42)\n",
        "p=st.hypergeom.pmf(2,N+10,10,10)\n",
        "plt.axvline(39)\n",
        "plt.axhline(0.3369)\n",
        "plt.plot(N,p)"
      ],
      "execution_count": null,
      "outputs": [
        {
          "output_type": "execute_result",
          "data": {
            "text/plain": [
              "[<matplotlib.lines.Line2D at 0x7f3f336a8080>]"
            ]
          },
          "metadata": {
            "tags": []
          },
          "execution_count": 65
        },
        {
          "output_type": "display_data",
          "data": {
            "image/png": "[encoded data removed]",
            "text/plain": [
              "<Figure size 432x288 with 1 Axes>"
            ]
          },
          "metadata": {
            "tags": [],
            "needs_background": "light"
          }
        }
      ]
    },
    {
      "cell_type": "code",
      "metadata": {
        "id": "E93S8pZ5bd9Z",
        "colab": {
          "base_uri": "https://localhost:8080/",
          "height": 51
        },
        "outputId": "680b13d3-9380-47bf-e886-4ac447eca20d"
      },
      "source": [
        "p"
      ],
      "execution_count": null,
      "outputs": [
        {
          "output_type": "execute_result",
          "data": {
            "text/plain": [
              "array([0.33199051, 0.33405256, 0.33552308, 0.33645509, 0.33689808,\n",
              "       0.33689808, 0.33649773])"
            ]
          },
          "metadata": {
            "tags": []
          },
          "execution_count": 66
        }
      ]
    },
    {
      "cell_type": "markdown",
      "metadata": {
        "id": "K0HcjQnLb4Uu"
      },
      "source": [
        "39, 40마리"
      ]
    },
    {
      "cell_type": "markdown",
      "metadata": {
        "id": "-4NtEofnlJ0Y"
      },
      "source": [
        "### 숙제"
      ]
    },
    {
      "cell_type": "code",
      "metadata": {
        "id": "O4LWwqhd5nds"
      },
      "source": [
        "import scipy.stats as st"
      ],
      "execution_count": null,
      "outputs": []
    },
    {
      "cell_type": "markdown",
      "metadata": {
        "id": "zX3LtnkBlToR"
      },
      "source": [
        "은행에 고객이 임의의 1초에 창구를 찾을 확률은 0.1이고 고객이 창구를 찾는 사건은 서로 독립이라고 가정하자. \n",
        "\n",
        "①3초에 첫 손님이 올 확률을 계산하시오. \n",
        "P(X=2|X~NB(r=1,p=0.1))"
      ]
    },
    {
      "cell_type": "code",
      "metadata": {
        "id": "bEKn-sh0vXhN",
        "colab": {
          "base_uri": "https://localhost:8080/",
          "height": 34
        },
        "outputId": "51352e62-7a65-4106-843e-03f37293efea"
      },
      "source": [
        "st.nbinom.pmf(2,1,0.1)"
      ],
      "execution_count": null,
      "outputs": [
        {
          "output_type": "execute_result",
          "data": {
            "text/plain": [
              "0.08100000000000002"
            ]
          },
          "metadata": {
            "tags": []
          },
          "execution_count": 68
        }
      ]
    },
    {
      "cell_type": "markdown",
      "metadata": {
        "id": "uHXJEYEDvieT"
      },
      "source": [
        "②적어도 3초 안에는 첫 손님이 오지 않을 확률을 계산하시오. \n",
        "1-P(X>=3|X~NB(r=1,p=0.1))"
      ]
    },
    {
      "cell_type": "code",
      "metadata": {
        "id": "HhuO2cUxnDIV",
        "colab": {
          "base_uri": "https://localhost:8080/",
          "height": 34
        },
        "outputId": "a0d870db-df9b-4922-d7dd-a8030c397c21"
      },
      "source": [
        "1-st.nbinom.cdf(0,3,0.1)"
      ],
      "execution_count": null,
      "outputs": [
        {
          "output_type": "execute_result",
          "data": {
            "text/plain": [
              "0.999"
            ]
          },
          "metadata": {
            "tags": []
          },
          "execution_count": 69
        }
      ]
    },
    {
      "cell_type": "markdown",
      "metadata": {
        "id": "KDoseZNIvlkS"
      },
      "source": [
        "③첫 손님이 오려면 몇 초나 기다려야 할까?\n",
        "r/p = 1/0.1 = 10 (기댓값)"
      ]
    },
    {
      "cell_type": "markdown",
      "metadata": {
        "id": "waAdNS1jlps_"
      },
      "source": [
        "지질학 연구 결과 석유 탐사 중 석유 발견 확률은 0.2이다. \n",
        "\n",
        "①3번째 탐사에서 처음 석유가 발견될 확률을 계산하시오. \n",
        "P(X=2|X~NB(r=1,p=0.2))"
      ]
    },
    {
      "cell_type": "code",
      "metadata": {
        "id": "FfsnZjXxiUYA",
        "colab": {
          "base_uri": "https://localhost:8080/",
          "height": 34
        },
        "outputId": "594a635c-e8e8-4370-be8d-cc8cee474438"
      },
      "source": [
        "st.nbinom.pmf(2,1,0.2)"
      ],
      "execution_count": null,
      "outputs": [
        {
          "output_type": "execute_result",
          "data": {
            "text/plain": [
              "0.128"
            ]
          },
          "metadata": {
            "tags": []
          },
          "execution_count": 70
        }
      ]
    },
    {
      "cell_type": "markdown",
      "metadata": {
        "id": "pkzZZabH40B-"
      },
      "source": [
        "②7번째 탐사에서 3번째 석유가 발견될 확률을 계산하시오. "
      ]
    },
    {
      "cell_type": "code",
      "metadata": {
        "id": "YaMgJUvz43Wj",
        "colab": {
          "base_uri": "https://localhost:8080/",
          "height": 34
        },
        "outputId": "7ac172b1-bd1d-43bd-ad40-9df803c8783d"
      },
      "source": [
        "st.nbinom.pmf(4,3,0.2)"
      ],
      "execution_count": null,
      "outputs": [
        {
          "output_type": "execute_result",
          "data": {
            "text/plain": [
              "0.049152000000000015"
            ]
          },
          "metadata": {
            "tags": []
          },
          "execution_count": 71
        }
      ]
    },
    {
      "cell_type": "markdown",
      "metadata": {
        "id": "lyXaDc5M7Dgn"
      },
      "source": [
        "P(X>=5|X_NB(n=2,p=0.2)) = 1-P(X<=4|X_NB(n=2,p=0.2))"
      ]
    },
    {
      "cell_type": "code",
      "metadata": {
        "id": "YuzJ8e126rl0",
        "colab": {
          "base_uri": "https://localhost:8080/",
          "height": 34
        },
        "outputId": "19ae4b68-4a22-43c4-b636-b25127670e88"
      },
      "source": [
        "1-st.nbinom.cdf(4,2,0.2)"
      ],
      "execution_count": null,
      "outputs": [
        {
          "output_type": "execute_result",
          "data": {
            "text/plain": [
              "0.6553599999999999"
            ]
          },
          "metadata": {
            "tags": []
          },
          "execution_count": 72
        }
      ]
    },
    {
      "cell_type": "markdown",
      "metadata": {
        "id": "0YeOKxPE44CI"
      },
      "source": [
        "③석유가 3개 발견될 때까지 시추를 계속하기로 하였다. 몇 번 정도 시추해야 하나?"
      ]
    },
    {
      "cell_type": "code",
      "metadata": {
        "id": "tf6U6tyX46VE",
        "colab": {
          "base_uri": "https://localhost:8080/",
          "height": 34
        },
        "outputId": "6217cf97-82c3-48fd-97d5-a2050c09574d"
      },
      "source": [
        "3/0.2"
      ],
      "execution_count": null,
      "outputs": [
        {
          "output_type": "execute_result",
          "data": {
            "text/plain": [
              "15.0"
            ]
          },
          "metadata": {
            "tags": []
          },
          "execution_count": 73
        }
      ]
    },
    {
      "cell_type": "markdown",
      "metadata": {
        "id": "iQpaao62mAih"
      },
      "source": [
        "제품의 10%는 불량이다. 제품을 하나씩 검사하는 과정에서 \n",
        "\n",
        "(1) 첫 불량품이 2번째 검사에서 발견될 확률을 계산하시오. "
      ]
    },
    {
      "cell_type": "code",
      "metadata": {
        "id": "q8drQB6KmLjM",
        "colab": {
          "base_uri": "https://localhost:8080/",
          "height": 34
        },
        "outputId": "3e6c67b3-ddb9-4a4d-88d2-cd556af2c13a"
      },
      "source": [
        "st.nbinom.pmf(1,1,0.1)"
      ],
      "execution_count": null,
      "outputs": [
        {
          "output_type": "execute_result",
          "data": {
            "text/plain": [
              "0.09000000000000001"
            ]
          },
          "metadata": {
            "tags": []
          },
          "execution_count": 74
        }
      ]
    },
    {
      "cell_type": "markdown",
      "metadata": {
        "id": "_LwOzPue5l5V"
      },
      "source": [
        "(2) 5번째 시행에서 세 번째 불량 제품이 발견될 확률을 계산하시오. "
      ]
    },
    {
      "cell_type": "code",
      "metadata": {
        "id": "aoh2VMmL5mzb",
        "colab": {
          "base_uri": "https://localhost:8080/",
          "height": 34
        },
        "outputId": "41e0d814-0866-412b-d813-222cd4c5120d"
      },
      "source": [
        "st.nbinom.pmf(2,3,0.1)"
      ],
      "execution_count": null,
      "outputs": [
        {
          "output_type": "execute_result",
          "data": {
            "text/plain": [
              "0.004859999999999998"
            ]
          },
          "metadata": {
            "tags": []
          },
          "execution_count": 75
        }
      ]
    },
    {
      "cell_type": "markdown",
      "metadata": {
        "id": "dZD2b2EE5npx"
      },
      "source": [
        "(3) 5번째 시행 혹은 그 전 시행에서 세 번째 불량 제품이 발견될 확률을 계산하시오."
      ]
    },
    {
      "cell_type": "code",
      "metadata": {
        "id": "FgXcAUBC5oX7",
        "colab": {
          "base_uri": "https://localhost:8080/",
          "height": 34
        },
        "outputId": "d6b2f924-fc0d-4310-ef19-2f67b3ddbb59"
      },
      "source": [
        "st.nbinom.cdf(2,3,0.1)"
      ],
      "execution_count": null,
      "outputs": [
        {
          "output_type": "execute_result",
          "data": {
            "text/plain": [
              "0.008560000000000003"
            ]
          },
          "metadata": {
            "tags": []
          },
          "execution_count": 76
        }
      ]
    },
    {
      "cell_type": "markdown",
      "metadata": {
        "id": "4iGUDfmUqkm2"
      },
      "source": [
        "### 05.11.월"
      ]
    },
    {
      "cell_type": "code",
      "metadata": {
        "id": "wYvWAtLgqsDc"
      },
      "source": [
        "import numpy as np\n",
        "x=[0,1]"
      ],
      "execution_count": null,
      "outputs": []
    },
    {
      "cell_type": "code",
      "metadata": {
        "id": "7ozn8yQ5Kksg"
      },
      "source": [
        "def b_fx(x,p):\n",
        "  return p**x*(1-p)**(1-x)"
      ],
      "execution_count": null,
      "outputs": []
    },
    {
      "cell_type": "code",
      "metadata": {
        "id": "vrzmCq0mMILX",
        "colab": {
          "base_uri": "https://localhost:8080/",
          "height": 282
        },
        "outputId": "a0af73d9-c8f4-465b-e454-104ea04d0910"
      },
      "source": [
        "import matplotlib.pyplot as plt\n",
        "from scipy.stats import bernoulli\n",
        "x=[0,1]\n",
        "fx=bernoulli.pmf(x,0.3)\n",
        "plt.plot(x,fx)"
      ],
      "execution_count": null,
      "outputs": [
        {
          "output_type": "execute_result",
          "data": {
            "text/plain": [
              "[<matplotlib.lines.Line2D at 0x7f3f2cf6fd30>]"
            ]
          },
          "metadata": {
            "tags": []
          },
          "execution_count": 79
        },
        {
          "output_type": "display_data",
          "data": {
            "image/png": "[encoded data removed]",
            "text/plain": [
              "<Figure size 432x288 with 1 Axes>"
            ]
          },
          "metadata": {
            "tags": [],
            "needs_background": "light"
          }
        }
      ]
    },
    {
      "cell_type": "code",
      "metadata": {
        "id": "P718lfrHNZCy",
        "colab": {
          "base_uri": "https://localhost:8080/",
          "height": 34
        },
        "outputId": "ffc11328-9d8d-42c8-c1cd-9a535a3553e9"
      },
      "source": [
        "bernoulli.cdf(x,0.3)"
      ],
      "execution_count": null,
      "outputs": [
        {
          "output_type": "execute_result",
          "data": {
            "text/plain": [
              "array([0.7, 1. ])"
            ]
          },
          "metadata": {
            "tags": []
          },
          "execution_count": 80
        }
      ]
    },
    {
      "cell_type": "code",
      "metadata": {
        "id": "dMn-taq9PQuG"
      },
      "source": [
        "from scipy.stats import binom\n",
        "def B_pdf(x,n,p):\n",
        "  plt.bar(x,binom.pmf(x,n,p))\n",
        "  plt.title('PDF of Binomial (' + str(n) + ',' + str(p) +')')\n",
        "def B_cdf(x,n,p):\n",
        "  plt.bar(x,binom.cdf(x,n,p))\n",
        "  plt.title('CDF of Binomial (' + str(n) + ',' + str(p) +')')"
      ],
      "execution_count": null,
      "outputs": []
    },
    {
      "cell_type": "code",
      "metadata": {
        "id": "RbpgSi7lR4GO",
        "colab": {
          "base_uri": "https://localhost:8080/",
          "height": 281
        },
        "outputId": "63a57782-c552-4fcf-ca64-97b954999e12"
      },
      "source": [
        "B_pdf(np.arange(0,21,1),20,0.5)"
      ],
      "execution_count": null,
      "outputs": [
        {
          "output_type": "display_data",
          "data": {
            "image/png": "[encoded data removed]",
            "text/plain": [
              "<Figure size 432x288 with 1 Axes>"
            ]
          },
          "metadata": {
            "tags": [],
            "needs_background": "light"
          }
        }
      ]
    },
    {
      "cell_type": "code",
      "metadata": {
        "id": "0_69dVdbTKuh",
        "colab": {
          "base_uri": "https://localhost:8080/",
          "height": 281
        },
        "outputId": "4b5bcd0c-c949-41cb-d419-92b4414041d7"
      },
      "source": [
        "B_cdf(np.arange(0,21,1),20,0.5)"
      ],
      "execution_count": null,
      "outputs": [
        {
          "output_type": "display_data",
          "data": {
            "image/png": "[encoded data removed]",
            "text/plain": [
              "<Figure size 432x288 with 1 Axes>"
            ]
          },
          "metadata": {
            "tags": [],
            "needs_background": "light"
          }
        }
      ]
    },
    {
      "cell_type": "markdown",
      "metadata": {
        "id": "hmfHz4WTYptF"
      },
      "source": [
        "문제풀이\n",
        "\n",
        "헌혈 지원자의 80%는 헌혈 가능자라 하자.\n",
        "\n",
        "⑴5명을 임의 추출했을 때 적어도 두 명이 헌혈 가능한 사람일 확률을 계산하시오.\n",
        "\n",
        "⑵많아야 4명이 헌혈 가능한 사람일 확률을 구하시오."
      ]
    },
    {
      "cell_type": "markdown",
      "metadata": {
        "id": "5e681uB6ZW_j"
      },
      "source": [
        "x=성공 확률이 p=0.8인 5번의 실험에서 성공(헌혈가능자)의 횟수 ~ B(n=5,p=0.8)\n",
        "\n",
        "P(X>=2)"
      ]
    },
    {
      "cell_type": "code",
      "metadata": {
        "id": "PbyVOg8PXP-x",
        "colab": {
          "base_uri": "https://localhost:8080/",
          "height": 34
        },
        "outputId": "e52ef1b5-7b79-4f03-b09a-05e9eb701a17"
      },
      "source": [
        "1-binom.cdf(1,5,0.8)"
      ],
      "execution_count": null,
      "outputs": [
        {
          "output_type": "execute_result",
          "data": {
            "text/plain": [
              "0.99328"
            ]
          },
          "metadata": {
            "tags": []
          },
          "execution_count": 84
        }
      ]
    },
    {
      "cell_type": "markdown",
      "metadata": {
        "id": "Exm61TkoatuW"
      },
      "source": [
        "P(X<=4)"
      ]
    },
    {
      "cell_type": "code",
      "metadata": {
        "id": "I4aA6mU3ZEw9",
        "colab": {
          "base_uri": "https://localhost:8080/",
          "height": 34
        },
        "outputId": "62a9230e-db3e-42a4-bedf-fec58ebc098f"
      },
      "source": [
        "binom.cdf(4,5,0.8)"
      ],
      "execution_count": null,
      "outputs": [
        {
          "output_type": "execute_result",
          "data": {
            "text/plain": [
              "0.6723199999999999"
            ]
          },
          "metadata": {
            "tags": []
          },
          "execution_count": 85
        }
      ]
    },
    {
      "cell_type": "code",
      "metadata": {
        "id": "b28PVXqqam5G"
      },
      "source": [
        "import scipy.stats as st\n",
        "def NB_pdf(x,n,p):\n",
        "  plt.bar(x,st.nbinom.pmf(x,n,p))\n",
        "  plt.title('PDF of NBinomial (' + str(n) + ',' + str(p) +')')\n",
        "def NB_cdf(x,n,p):\n",
        "  plt.bar(x,st.nbinom.cdf(x,n,p))\n",
        "  plt.title('CDF of NBinomial (' + str(n) + ',' + str(p) +')')"
      ],
      "execution_count": null,
      "outputs": []
    },
    {
      "cell_type": "code",
      "metadata": {
        "id": "bjCpsZcwfW73",
        "colab": {
          "base_uri": "https://localhost:8080/",
          "height": 34
        },
        "outputId": "2164005a-a77c-4c38-d219-e3f5ad1f6714"
      },
      "source": [
        "st.nbinom.pmf(3,4,0.25)"
      ],
      "execution_count": null,
      "outputs": [
        {
          "output_type": "execute_result",
          "data": {
            "text/plain": [
              "0.03295898437500003"
            ]
          },
          "metadata": {
            "tags": []
          },
          "execution_count": 87
        }
      ]
    },
    {
      "cell_type": "code",
      "metadata": {
        "id": "yjy8SVoYfm9U",
        "colab": {
          "base_uri": "https://localhost:8080/",
          "height": 34
        },
        "outputId": "15477993-30d9-4b71-b890-ed476c8544ad"
      },
      "source": [
        "1-st.nbinom.cdf(2,7,0.25)"
      ],
      "execution_count": null,
      "outputs": [
        {
          "output_type": "execute_result",
          "data": {
            "text/plain": [
              "0.9986572265625"
            ]
          },
          "metadata": {
            "tags": []
          },
          "execution_count": 88
        }
      ]
    },
    {
      "cell_type": "markdown",
      "metadata": {
        "id": "xFFthnVBihKT"
      },
      "source": [
        "기계 A가 1시간 동안 오작동 할 확률은 0.02이다. 이 기계가 두 시간 동안 오작동 없이 작동될 확률을 구하시오"
      ]
    },
    {
      "cell_type": "code",
      "metadata": {
        "id": "9O-IATEog_81",
        "colab": {
          "base_uri": "https://localhost:8080/",
          "height": 34
        },
        "outputId": "e41eb3bb-8771-4aaf-dd24-aa13b3a9844b"
      },
      "source": [
        "st.nbinom.pmf(0,2,0.02)"
      ],
      "execution_count": null,
      "outputs": [
        {
          "output_type": "execute_result",
          "data": {
            "text/plain": [
              "0.0004000000000000001"
            ]
          },
          "metadata": {
            "tags": []
          },
          "execution_count": 89
        }
      ]
    },
    {
      "cell_type": "code",
      "metadata": {
        "id": "Or2Lcw8iwFl5",
        "colab": {
          "base_uri": "https://localhost:8080/",
          "height": 34
        },
        "outputId": "ad36ed99-3715-42b9-eaa6-38e710fd8e0c"
      },
      "source": [
        "1-st.nbinom.cdf(0,1,0.02)"
      ],
      "execution_count": null,
      "outputs": [
        {
          "output_type": "execute_result",
          "data": {
            "text/plain": [
              "0.98"
            ]
          },
          "metadata": {
            "tags": []
          },
          "execution_count": 90
        }
      ]
    },
    {
      "cell_type": "markdown",
      "metadata": {
        "id": "8L9n-rbcGAwg"
      },
      "source": [
        "### 04.27.월"
      ]
    },
    {
      "cell_type": "code",
      "metadata": {
        "id": "GRRyDYg1GMYh",
        "colab": {
          "base_uri": "https://localhost:8080/",
          "height": 34
        },
        "outputId": "070f50f4-9d5b-4390-d3da-85a6261292ba"
      },
      "source": [
        "import numpy as np\n",
        "outcome = np.array([0.68, 0.32])\n",
        "score = np.array([0.57, 0.16])\n",
        "sum(outcome * score)"
      ],
      "execution_count": null,
      "outputs": [
        {
          "output_type": "execute_result",
          "data": {
            "text/plain": [
              "0.4388"
            ]
          },
          "metadata": {
            "tags": []
          },
          "execution_count": 91
        }
      ]
    },
    {
      "cell_type": "code",
      "metadata": {
        "id": "fhDX4P9vG7S5",
        "colab": {
          "base_uri": "https://localhost:8080/",
          "height": 34
        },
        "outputId": "3ad35f19-574c-48f2-c7bd-e3bb55941f62"
      },
      "source": [
        "(1-(1-0.05)**30)*30+1"
      ],
      "execution_count": null,
      "outputs": [
        {
          "output_type": "execute_result",
          "data": {
            "text/plain": [
              "24.56083708171188"
            ]
          },
          "metadata": {
            "tags": []
          },
          "execution_count": 92
        }
      ]
    },
    {
      "cell_type": "markdown",
      "metadata": {
        "id": "2-erNDYNXyHC"
      },
      "source": [
        "p와 n의 함수관계를 설정\n",
        "\n",
        "n = f(p, k)"
      ]
    },
    {
      "cell_type": "code",
      "metadata": {
        "id": "oSyJ8LsrZcBP"
      },
      "source": [
        "p=0.1\n",
        "k=10"
      ],
      "execution_count": null,
      "outputs": []
    },
    {
      "cell_type": "code",
      "metadata": {
        "id": "8Cf5pSgvWuaf"
      },
      "source": [
        "n = (1-(1-p)**k)*k+1"
      ],
      "execution_count": null,
      "outputs": []
    },
    {
      "cell_type": "code",
      "metadata": {
        "id": "05RiCk-NY59w"
      },
      "source": [
        "def op(k, p):\n",
        "  return (1-(1-p)**k)*k+1"
      ],
      "execution_count": null,
      "outputs": []
    },
    {
      "cell_type": "code",
      "metadata": {
        "id": "hul3Nm-SZu8e",
        "colab": {
          "base_uri": "https://localhost:8080/",
          "height": 34
        },
        "outputId": "ee1792fb-d280-4b89-9579-c0c726b8ef5d"
      },
      "source": [
        "op(10, 0.1)"
      ],
      "execution_count": null,
      "outputs": [
        {
          "output_type": "execute_result",
          "data": {
            "text/plain": [
              "7.513215599"
            ]
          },
          "metadata": {
            "tags": []
          },
          "execution_count": 96
        }
      ]
    },
    {
      "cell_type": "markdown",
      "metadata": {
        "id": "QAZzMp6CwzKJ"
      },
      "source": [
        "### 04.13.월"
      ]
    },
    {
      "cell_type": "markdown",
      "metadata": {
        "id": "xESuEDxsjcKc"
      },
      "source": [
        "미분하기"
      ]
    },
    {
      "cell_type": "code",
      "metadata": {
        "id": "n8yFw3hgju70",
        "colab": {
          "base_uri": "https://localhost:8080/",
          "height": 51
        },
        "outputId": "c4da0a55-3d93-41aa-ff79-a1ff382d6878"
      },
      "source": [
        "!pip install sympy"
      ],
      "execution_count": null,
      "outputs": [
        {
          "output_type": "stream",
          "text": [
            "Requirement already satisfied: sympy in /usr/local/lib/python3.6/dist-packages (1.1.1)\n",
            "Requirement already satisfied: mpmath>=0.19 in /usr/local/lib/python3.6/dist-packages (from sympy) (1.1.0)\n"
          ],
          "name": "stdout"
        }
      ]
    },
    {
      "cell_type": "markdown",
      "metadata": {
        "id": "VSe8Ny9vMQGV"
      },
      "source": [
        "1) 원함수 지정"
      ]
    },
    {
      "cell_type": "code",
      "metadata": {
        "id": "1nTGsnNoMPN6"
      },
      "source": [
        "def f(x):\n",
        "  return x**3/3-x**2/2-2*x+1/3"
      ],
      "execution_count": null,
      "outputs": []
    },
    {
      "cell_type": "markdown",
      "metadata": {
        "id": "corT7DSR5SC_"
      },
      "source": [
        "2) 미분하기"
      ]
    },
    {
      "cell_type": "code",
      "metadata": {
        "id": "Tn42LD1C6Lzw",
        "colab": {
          "base_uri": "https://localhost:8080/",
          "height": 34
        },
        "outputId": "99a89cc1-9c54-4823-d448-a54499759dc1"
      },
      "source": [
        "from sympy import *\n",
        "x = Symbol('x')\n",
        "f = x**3/3-x**2/2-2*x+1/3\n",
        "f.diff(x)"
      ],
      "execution_count": null,
      "outputs": [
        {
          "output_type": "execute_result",
          "data": {
            "text/plain": [
              "x**2 - x - 2"
            ]
          },
          "metadata": {
            "tags": []
          },
          "execution_count": 99
        }
      ]
    },
    {
      "cell_type": "code",
      "metadata": {
        "id": "V7NLeA0TA8Mn",
        "colab": {
          "base_uri": "https://localhost:8080/",
          "height": 34
        },
        "outputId": "5db4f462-4172-41a3-885f-2a980a3c9489"
      },
      "source": [
        "from sympy import *\n",
        "x = Symbol('x')\n",
        "f = log(1-2*x)**3\n",
        "f.diff(x)"
      ],
      "execution_count": null,
      "outputs": [
        {
          "output_type": "execute_result",
          "data": {
            "text/plain": [
              "-6*log(-2*x + 1)**2/(-2*x + 1)"
            ]
          },
          "metadata": {
            "tags": []
          },
          "execution_count": 100
        }
      ]
    },
    {
      "cell_type": "code",
      "metadata": {
        "id": "3SULjQYdCJAc",
        "colab": {
          "base_uri": "https://localhost:8080/",
          "height": 34
        },
        "outputId": "f3bd34f8-8175-48e8-f531-d75286e87fbe"
      },
      "source": [
        "from sympy import *\n",
        "x = Symbol('x')\n",
        "f = exp(x)/2*x-3\n",
        "f.diff(x)"
      ],
      "execution_count": null,
      "outputs": [
        {
          "output_type": "execute_result",
          "data": {
            "text/plain": [
              "x*exp(x)/2 + exp(x)/2"
            ]
          },
          "metadata": {
            "tags": []
          },
          "execution_count": 101
        }
      ]
    },
    {
      "cell_type": "markdown",
      "metadata": {
        "id": "EIeDWiA56c23"
      },
      "source": [
        "3) 미분함수 지정"
      ]
    },
    {
      "cell_type": "code",
      "metadata": {
        "id": "lK_Fi42m6cJD"
      },
      "source": [
        "def fp(x):\n",
        "  return (x**2 - x - 2)"
      ],
      "execution_count": null,
      "outputs": []
    },
    {
      "cell_type": "markdown",
      "metadata": {
        "id": "UyOEApUF8HXH"
      },
      "source": [
        "4) 그래프 그리기"
      ]
    },
    {
      "cell_type": "markdown",
      "metadata": {
        "id": "aac8B1ac5qWv"
      },
      "source": [
        "4-1) x-정의역 지정"
      ]
    },
    {
      "cell_type": "code",
      "metadata": {
        "id": "QcBIXD0P68No"
      },
      "source": [
        "import numpy as np\n",
        "x=np.linspace(-3,5,100)\n",
        "y=np.exp(x)/(2*x-3)"
      ],
      "execution_count": null,
      "outputs": []
    },
    {
      "cell_type": "markdown",
      "metadata": {
        "id": "4ahmPtg76qQs"
      },
      "source": [
        "4-2) 원함수 그리기"
      ]
    },
    {
      "cell_type": "code",
      "metadata": {
        "id": "3nb58q2E7rnf",
        "colab": {
          "base_uri": "https://localhost:8080/",
          "height": 281
        },
        "outputId": "f1866ce2-b6ce-4206-ef3e-192b05dac34e"
      },
      "source": [
        "import matplotlib.pyplot as plt\n",
        "plt.plot(x,y)\n",
        "plt.axvline(0,c='k')\n",
        "plt.axhline(0,c='k')\n",
        "plt.title('original function')\n",
        "plt.show()"
      ],
      "execution_count": null,
      "outputs": [
        {
          "output_type": "display_data",
          "data": {
            "image/png": "[encoded data removed]",
            "text/plain": [
              "<Figure size 432x288 with 1 Axes>"
            ]
          },
          "metadata": {
            "tags": [],
            "needs_background": "light"
          }
        }
      ]
    },
    {
      "cell_type": "markdown",
      "metadata": {
        "id": "OWTduRBL-FrA"
      },
      "source": [
        "4-3) 미분함수 그리기"
      ]
    },
    {
      "cell_type": "code",
      "metadata": {
        "id": "tsDCFhka6URq",
        "colab": {
          "base_uri": "https://localhost:8080/",
          "height": 281
        },
        "outputId": "69d510f7-4b3e-4e04-ce75-726124a69886"
      },
      "source": [
        "yp = x**2 - x - 2\n",
        "plt.plot(x,yp)\n",
        "plt.title('ferivative function')\n",
        "plt.axvline(0,c='k')\n",
        "plt.axhline(0,c='k')\n",
        "plt.show()"
      ],
      "execution_count": null,
      "outputs": [
        {
          "output_type": "display_data",
          "data": {
            "image/png": "[encoded data removed]",
            "text/plain": [
              "<Figure size 432x288 with 1 Axes>"
            ]
          },
          "metadata": {
            "tags": [],
            "needs_background": "light"
          }
        }
      ]
    },
    {
      "cell_type": "markdown",
      "metadata": {
        "id": "fCtV8Pjo9UoO"
      },
      "source": [
        "5) 해 구하기"
      ]
    },
    {
      "cell_type": "code",
      "metadata": {
        "id": "AASxaPqk9PKl",
        "colab": {
          "base_uri": "https://localhost:8080/",
          "height": 34
        },
        "outputId": "3a7a3abb-327f-4acb-da85-2add83af7d53"
      },
      "source": [
        "def f(x):\n",
        "  return x**3/3-x**2/2-2*x+1/3\n",
        "from scipy import optimize\n",
        "optimize.newton(f, 1)"
      ],
      "execution_count": null,
      "outputs": [
        {
          "output_type": "execute_result",
          "data": {
            "text/plain": [
              "0.16088942931611191"
            ]
          },
          "metadata": {
            "tags": []
          },
          "execution_count": 106
        }
      ]
    },
    {
      "cell_type": "code",
      "metadata": {
        "id": "G28C7VpP-TAq",
        "colab": {
          "base_uri": "https://localhost:8080/",
          "height": 34
        },
        "outputId": "91af43b6-f3be-4a0a-d81f-9bf87de829d0"
      },
      "source": [
        "f(0.16088942931611191)"
      ],
      "execution_count": null,
      "outputs": [
        {
          "output_type": "execute_result",
          "data": {
            "text/plain": [
              "1.6248113965389166e-13"
            ]
          },
          "metadata": {
            "tags": []
          },
          "execution_count": 107
        }
      ]
    },
    {
      "cell_type": "markdown",
      "metadata": {
        "id": "8nzpfKEy_4ZC"
      },
      "source": [
        "최대값, 최소값 구하기"
      ]
    },
    {
      "cell_type": "code",
      "metadata": {
        "id": "rSI3SuAY8TWQ",
        "colab": {
          "base_uri": "https://localhost:8080/",
          "height": 34
        },
        "outputId": "0a899516-f5ae-4135-e51b-af0b2e24feed"
      },
      "source": [
        "def fp(x):\n",
        "  return (x**2 - x - 2)\n",
        "from scipy import optimize\n",
        "optimize.newton(fp, 1)"
      ],
      "execution_count": null,
      "outputs": [
        {
          "output_type": "execute_result",
          "data": {
            "text/plain": [
              "2.0"
            ]
          },
          "metadata": {
            "tags": []
          },
          "execution_count": 108
        }
      ]
    },
    {
      "cell_type": "markdown",
      "metadata": {
        "id": "ghsbsgRlAbWd"
      },
      "source": [
        "최대값"
      ]
    },
    {
      "cell_type": "code",
      "metadata": {
        "id": "HZeICN_oAFd8",
        "colab": {
          "base_uri": "https://localhost:8080/",
          "height": 34
        },
        "outputId": "d4f4e1a3-c9ab-4d6a-ebe3-98b852cd306a"
      },
      "source": [
        "f(-1.0)"
      ],
      "execution_count": null,
      "outputs": [
        {
          "output_type": "execute_result",
          "data": {
            "text/plain": [
              "1.5"
            ]
          },
          "metadata": {
            "tags": []
          },
          "execution_count": 109
        }
      ]
    },
    {
      "cell_type": "markdown",
      "metadata": {
        "id": "sg7JvC-8AvFy"
      },
      "source": [
        "최소값"
      ]
    },
    {
      "cell_type": "code",
      "metadata": {
        "id": "Ar2mTj7GAnfm",
        "colab": {
          "base_uri": "https://localhost:8080/",
          "height": 34
        },
        "outputId": "ad79ddfd-bf4a-4f6d-9ead-33f969a15a8a"
      },
      "source": [
        "f(2.0)"
      ],
      "execution_count": null,
      "outputs": [
        {
          "output_type": "execute_result",
          "data": {
            "text/plain": [
              "-3.0"
            ]
          },
          "metadata": {
            "tags": []
          },
          "execution_count": 110
        }
      ]
    },
    {
      "cell_type": "markdown",
      "metadata": {
        "id": "eJe_0lXnGZzD"
      },
      "source": [
        "질량 80kg 바위를 로켓처럼 하늘로 수직으로 쏘아 올렸을 때 시간 t에 도달하는 수직 거리함수를\n",
        "s(t) = 160t − 16t**2\n",
        "이다.\n",
        "\n",
        "(1)가장 높이 올라 갔을 때는 언제인가?\n",
        "\n",
        "(2)256 높이에서 바위의 속력"
      ]
    },
    {
      "cell_type": "code",
      "metadata": {
        "id": "pI0t2Pp2I7q4"
      },
      "source": [
        "def f(x):\n",
        "  return 160*x-16*x**2"
      ],
      "execution_count": null,
      "outputs": []
    },
    {
      "cell_type": "code",
      "metadata": {
        "id": "gtWNjfeCGa05",
        "colab": {
          "base_uri": "https://localhost:8080/",
          "height": 34
        },
        "outputId": "e9376ba2-3bda-4f60-d313-32ce047780ca"
      },
      "source": [
        "from sympy import *\n",
        "x = Symbol('x')\n",
        "f = 160*x-16*x**2\n",
        "f.diff(x)"
      ],
      "execution_count": null,
      "outputs": [
        {
          "output_type": "execute_result",
          "data": {
            "text/plain": [
              "-32*x + 160"
            ]
          },
          "metadata": {
            "tags": []
          },
          "execution_count": 112
        }
      ]
    },
    {
      "cell_type": "code",
      "metadata": {
        "id": "sPr2IE6gHxyz"
      },
      "source": [
        "import numpy as np\n",
        "x=np.linspace(0,20,100)\n",
        "y=160*x-16*x**2"
      ],
      "execution_count": null,
      "outputs": []
    },
    {
      "cell_type": "code",
      "metadata": {
        "id": "fJT1LS81HHbq",
        "colab": {
          "base_uri": "https://localhost:8080/",
          "height": 281
        },
        "outputId": "563fb278-58bc-4b54-8d43-2f0f4b4c0740"
      },
      "source": [
        "import matplotlib.pyplot as plt\n",
        "plt.plot(x,y)\n",
        "plt.axvline(0,c='k')\n",
        "plt.axhline(0,c='k')\n",
        "plt.title('original function')\n",
        "plt.show()"
      ],
      "execution_count": null,
      "outputs": [
        {
          "output_type": "display_data",
          "data": {
            "image/png": "[encoded data removed]",
            "text/plain": [
              "<Figure size 432x288 with 1 Axes>"
            ]
          },
          "metadata": {
            "tags": [],
            "needs_background": "light"
          }
        }
      ]
    },
    {
      "cell_type": "code",
      "metadata": {
        "id": "fYT0Ffx8HfnB",
        "colab": {
          "base_uri": "https://localhost:8080/",
          "height": 281
        },
        "outputId": "453c2ebf-d152-4bcc-ee89-0c87ba3bcd9f"
      },
      "source": [
        "yp = -32*x + 160\n",
        "plt.plot(x,yp)\n",
        "plt.title('ferivative function')\n",
        "plt.axvline(0,c='k')\n",
        "plt.axhline(0,c='k')\n",
        "plt.show()"
      ],
      "execution_count": null,
      "outputs": [
        {
          "output_type": "display_data",
          "data": {
            "image/png": "[encoded data removed]",
            "text/plain": [
              "<Figure size 432x288 with 1 Axes>"
            ]
          },
          "metadata": {
            "tags": [],
            "needs_background": "light"
          }
        }
      ]
    },
    {
      "cell_type": "code",
      "metadata": {
        "id": "uOds4x6bHncU",
        "colab": {
          "base_uri": "https://localhost:8080/",
          "height": 34
        },
        "outputId": "947a8811-2406-4970-b4ab-15ed0668c34e"
      },
      "source": [
        "def fp(x):\n",
        "  return -32*x + 160\n",
        "from scipy import optimize\n",
        "optimize.newton(fp, 0)"
      ],
      "execution_count": null,
      "outputs": [
        {
          "output_type": "execute_result",
          "data": {
            "text/plain": [
              "5.0"
            ]
          },
          "metadata": {
            "tags": []
          },
          "execution_count": 116
        }
      ]
    },
    {
      "cell_type": "code",
      "metadata": {
        "id": "nX4UqbGUIXzV",
        "colab": {
          "base_uri": "https://localhost:8080/",
          "height": 34
        },
        "outputId": "92e8b559-e368-4bf3-cd25-9026461c4b75"
      },
      "source": [
        "fp(5)"
      ],
      "execution_count": null,
      "outputs": [
        {
          "output_type": "execute_result",
          "data": {
            "text/plain": [
              "0"
            ]
          },
          "metadata": {
            "tags": []
          },
          "execution_count": 117
        }
      ]
    },
    {
      "cell_type": "code",
      "metadata": {
        "id": "zxqcuG9HJC3J"
      },
      "source": [
        "import numpy as np\n",
        "x=np.linspace(0,20,100)\n",
        "y=160*x-16*x**2-256"
      ],
      "execution_count": null,
      "outputs": []
    },
    {
      "cell_type": "code",
      "metadata": {
        "id": "dNn-ivevJyPh",
        "colab": {
          "base_uri": "https://localhost:8080/",
          "height": 281
        },
        "outputId": "2839a527-5a89-4f34-ba6e-7a267785bdbd"
      },
      "source": [
        "import matplotlib.pyplot as plt\n",
        "plt.plot(x,y)\n",
        "plt.axvline(0,c='k')\n",
        "plt.axhline(0,c='k')\n",
        "plt.title('original function')\n",
        "plt.show()"
      ],
      "execution_count": null,
      "outputs": [
        {
          "output_type": "display_data",
          "data": {
            "image/png": "[encoded data removed]",
            "text/plain": [
              "<Figure size 432x288 with 1 Axes>"
            ]
          },
          "metadata": {
            "tags": [],
            "needs_background": "light"
          }
        }
      ]
    },
    {
      "cell_type": "code",
      "metadata": {
        "id": "XUcpsADoJ3WP",
        "colab": {
          "base_uri": "https://localhost:8080/",
          "height": 34
        },
        "outputId": "848f82ec-1eae-437c-8703-97ae14bbff9c"
      },
      "source": [
        "def f(x):\n",
        "  return 160*x-16*x**2-256\n",
        "from scipy import optimize\n",
        "optimize.newton(f, 2)"
      ],
      "execution_count": null,
      "outputs": [
        {
          "output_type": "execute_result",
          "data": {
            "text/plain": [
              "2.0"
            ]
          },
          "metadata": {
            "tags": []
          },
          "execution_count": 120
        }
      ]
    },
    {
      "cell_type": "code",
      "metadata": {
        "id": "h1G6BCSFJ5qP",
        "colab": {
          "base_uri": "https://localhost:8080/",
          "height": 34
        },
        "outputId": "79f74243-7b2d-4eef-9f51-5a8fc85ba49e"
      },
      "source": [
        "def f(x):\n",
        "  return 160*x-16*x**2-256\n",
        "from scipy import optimize\n",
        "optimize.newton(f, 8)"
      ],
      "execution_count": null,
      "outputs": [
        {
          "output_type": "execute_result",
          "data": {
            "text/plain": [
              "8.0"
            ]
          },
          "metadata": {
            "tags": []
          },
          "execution_count": 121
        }
      ]
    },
    {
      "cell_type": "code",
      "metadata": {
        "id": "ibkWsrt0KCkH",
        "colab": {
          "base_uri": "https://localhost:8080/",
          "height": 34
        },
        "outputId": "f67ea17d-5705-44d1-8950-89b8ba794a35"
      },
      "source": [
        "fp(2)"
      ],
      "execution_count": null,
      "outputs": [
        {
          "output_type": "execute_result",
          "data": {
            "text/plain": [
              "96"
            ]
          },
          "metadata": {
            "tags": []
          },
          "execution_count": 122
        }
      ]
    },
    {
      "cell_type": "code",
      "metadata": {
        "id": "EXeWvmhdKOIk",
        "colab": {
          "base_uri": "https://localhost:8080/",
          "height": 34
        },
        "outputId": "b78c05fd-0cf4-40ee-80c6-0e2fd2d5231c"
      },
      "source": [
        "fp(8)"
      ],
      "execution_count": null,
      "outputs": [
        {
          "output_type": "execute_result",
          "data": {
            "text/plain": [
              "-96"
            ]
          },
          "metadata": {
            "tags": []
          },
          "execution_count": 123
        }
      ]
    },
    {
      "cell_type": "markdown",
      "metadata": {
        "id": "OmNIx4thK6xc"
      },
      "source": [
        "정원이 60명인 버스승객 수를 x 명이라할때 요금은 p(x) = (3 − x\n",
        "20 )\n",
        "2\n",
        " (승객당)받는다. 버스가 최대 수익\n",
        "을 위해서는 승객이 몇 명 탑승해야 하는지 구하시오."
      ]
    },
    {
      "cell_type": "code",
      "metadata": {
        "id": "lS-i7tSeK55f"
      },
      "source": [
        "def f(x):\n",
        "  return (3-x/20)**2*x"
      ],
      "execution_count": null,
      "outputs": []
    },
    {
      "cell_type": "code",
      "metadata": {
        "id": "bEXmHlZuNgPE",
        "colab": {
          "base_uri": "https://localhost:8080/",
          "height": 34
        },
        "outputId": "ee48057e-ffc1-4baf-c958-3d76cc6c3081"
      },
      "source": [
        "from sympy import *\n",
        "x = Symbol('x')\n",
        "f = (3-x/20)**2*x\n",
        "f.diff(x)"
      ],
      "execution_count": null,
      "outputs": [
        {
          "output_type": "execute_result",
          "data": {
            "text/plain": [
              "x*(x/200 - 3/10) + (-x/20 + 3)**2"
            ]
          },
          "metadata": {
            "tags": []
          },
          "execution_count": 125
        }
      ]
    },
    {
      "cell_type": "code",
      "metadata": {
        "id": "KadTq6zUNksC"
      },
      "source": [
        "def fp(x):\n",
        "  return x*(x/200 - 3/10) + (-x/20 + 3)**2"
      ],
      "execution_count": null,
      "outputs": []
    },
    {
      "cell_type": "code",
      "metadata": {
        "id": "Cdv7NjryLMQb"
      },
      "source": [
        "import numpy as np\n",
        "x=np.linspace(0,60,60)\n",
        "y=(3-x/20)**2*x"
      ],
      "execution_count": null,
      "outputs": []
    },
    {
      "cell_type": "code",
      "metadata": {
        "id": "KlnkJZDYLXV9",
        "colab": {
          "base_uri": "https://localhost:8080/",
          "height": 281
        },
        "outputId": "b2a83e69-3964-4030-ef08-b58d150af78a"
      },
      "source": [
        "import matplotlib.pyplot as plt\n",
        "plt.plot(x,y)\n",
        "plt.axvline(0,c='k')\n",
        "plt.axhline(0,c='k')\n",
        "plt.title('original function')\n",
        "plt.show()"
      ],
      "execution_count": null,
      "outputs": [
        {
          "output_type": "display_data",
          "data": {
            "image/png": "[encoded data removed]",
            "text/plain": [
              "<Figure size 432x288 with 1 Axes>"
            ]
          },
          "metadata": {
            "tags": [],
            "needs_background": "light"
          }
        }
      ]
    },
    {
      "cell_type": "code",
      "metadata": {
        "id": "C4103Cn1PGby",
        "colab": {
          "base_uri": "https://localhost:8080/",
          "height": 281
        },
        "outputId": "b84bd905-9928-4edc-a3eb-dc71498cbe8b"
      },
      "source": [
        "yp=x*(x/200 - 3/10) + (-x/20 + 3)**2\n",
        "plt.plot(x,yp)\n",
        "plt.title('ferivative function')\n",
        "plt.axvline(0,c='k')\n",
        "plt.axhline(0,c='k')\n",
        "plt.show()"
      ],
      "execution_count": null,
      "outputs": [
        {
          "output_type": "display_data",
          "data": {
            "image/png": "[encoded data removed]",
            "text/plain": [
              "<Figure size 432x288 with 1 Axes>"
            ]
          },
          "metadata": {
            "tags": [],
            "needs_background": "light"
          }
        }
      ]
    },
    {
      "cell_type": "code",
      "metadata": {
        "id": "jV_zPsebLa9a",
        "colab": {
          "base_uri": "https://localhost:8080/",
          "height": 34
        },
        "outputId": "e9967808-7066-40d1-e087-0a3343442f1c"
      },
      "source": [
        "def fp(x):\n",
        "  return x*(x/200 - 3/10) + (-x/20 + 3)**2\n",
        "from scipy import optimize\n",
        "optimize.newton(fp, 20)"
      ],
      "execution_count": null,
      "outputs": [
        {
          "output_type": "execute_result",
          "data": {
            "text/plain": [
              "20.0"
            ]
          },
          "metadata": {
            "tags": []
          },
          "execution_count": 130
        }
      ]
    },
    {
      "cell_type": "code",
      "metadata": {
        "id": "osnAupycOuwp",
        "colab": {
          "base_uri": "https://localhost:8080/",
          "height": 34
        },
        "outputId": "1fa149d1-e382-402e-9be8-acd9204a97c6"
      },
      "source": [
        "fp(20)"
      ],
      "execution_count": null,
      "outputs": [
        {
          "output_type": "execute_result",
          "data": {
            "text/plain": [
              "4.440892098500626e-16"
            ]
          },
          "metadata": {
            "tags": []
          },
          "execution_count": 131
        }
      ]
    },
    {
      "cell_type": "markdown",
      "metadata": {
        "id": "hDLJytLfsZYM"
      },
      "source": [
        "### 04.06.월"
      ]
    },
    {
      "cell_type": "code",
      "metadata": {
        "id": "sbjT_W8lsdxY",
        "colab": {
          "base_uri": "https://localhost:8080/",
          "height": 299
        },
        "outputId": "923abf97-b5ea-480a-8fca-b80ec5910882"
      },
      "source": [
        "import numpy as np\n",
        "import matplotlib.pyplot as plt\n",
        "def fx(x):\n",
        "  return (x)**(1/2)*(1+x**2)**(-1)  # x=0인 부분 없음\n",
        "def fp(x):\n",
        "  return (1-3*x**2)/(2*(x**(1/2))*(1+x**2)**2)\n",
        "x=np.linspace(0,10,100)\n",
        "# 기울기가 바뀌는 부분 '변곡점' -> 누적함수 flat\n",
        "fig, (ax1,ax2)=plt.subplots(2)\n",
        "ax1.plot(x,fx(x))\n",
        "ax2.plot(x,fp(x))\n",
        "plt.axhline(0,c='red')\n",
        "plt.show()"
      ],
      "execution_count": null,
      "outputs": [
        {
          "output_type": "stream",
          "text": [
            "/usr/local/lib/python3.6/dist-packages/ipykernel_launcher.py:6: RuntimeWarning: divide by zero encountered in true_divide\n",
            "  \n"
          ],
          "name": "stderr"
        },
        {
          "output_type": "display_data",
          "data": {
            "image/png": "[encoded data removed]",
            "text/plain": [
              "<Figure size 432x288 with 2 Axes>"
            ]
          },
          "metadata": {
            "tags": [],
            "needs_background": "light"
          }
        }
      ]
    },
    {
      "cell_type": "markdown",
      "metadata": {
        "id": "nF_gbMjvwdFK"
      },
      "source": [
        "### 숙제"
      ]
    },
    {
      "cell_type": "code",
      "metadata": {
        "id": "kSGZW3TU0J7l"
      },
      "source": [
        "def f(x):\n",
        "  return x**4+x**3-3*x**2-x+2"
      ],
      "execution_count": null,
      "outputs": []
    },
    {
      "cell_type": "code",
      "metadata": {
        "id": "qAXy8OytvZqX",
        "colab": {
          "base_uri": "https://localhost:8080/",
          "height": 34
        },
        "outputId": "e8fe90f3-ab0c-4be8-8dcf-3d97545837a0"
      },
      "source": [
        "from scipy.optimize import brentq, newton\n",
        "#brentq(f,-3,-2), brentq(f,-2,-1), brentq(f,-1,0), brentq(f,0,1), brentq(f,1,2) #brentq method\n",
        "newton(f,-2), newton(f,-1), newton(f,0), newton(f,1) #secant method"
      ],
      "execution_count": null,
      "outputs": [
        {
          "output_type": "execute_result",
          "data": {
            "text/plain": [
              "(-2.0, -1.0, -0.9999999999999998, 1.0)"
            ]
          },
          "metadata": {
            "tags": []
          },
          "execution_count": 134
        }
      ]
    },
    {
      "cell_type": "markdown",
      "metadata": {
        "id": "ntB9LCxwuDJb"
      },
      "source": [
        "### 04.01.수"
      ]
    },
    {
      "cell_type": "code",
      "metadata": {
        "id": "9mPKe0YpuhTs"
      },
      "source": [
        "import numpy as np\n",
        "x=np.linspace(-2.5,2,100)\n",
        "y=x**4+x**3-3*x**2-x+2"
      ],
      "execution_count": null,
      "outputs": []
    },
    {
      "cell_type": "code",
      "metadata": {
        "id": "9jsHu1gBvTgD",
        "colab": {
          "base_uri": "https://localhost:8080/",
          "height": 282
        },
        "outputId": "479f3e44-3db4-4edc-cbd6-662563634123"
      },
      "source": [
        "import matplotlib.pyplot as plt\n",
        "plt.plot(x,y)\n",
        "plt.axvline(0,c='k')\n",
        "plt.axhline(0,c='k') # 접점 = 해(근)"
      ],
      "execution_count": null,
      "outputs": [
        {
          "output_type": "execute_result",
          "data": {
            "text/plain": [
              "<matplotlib.lines.Line2D at 0x7f3f333eceb8>"
            ]
          },
          "metadata": {
            "tags": []
          },
          "execution_count": 136
        },
        {
          "output_type": "display_data",
          "data": {
            "image/png": "[encoded data removed]",
            "text/plain": [
              "<Figure size 432x288 with 1 Axes>"
            ]
          },
          "metadata": {
            "tags": [],
            "needs_background": "light"
          }
        }
      ]
    },
    {
      "cell_type": "markdown",
      "metadata": {
        "id": "7ubyMeUE04f2"
      },
      "source": [
        "### 03.30.월"
      ]
    },
    {
      "cell_type": "code",
      "metadata": {
        "id": "H7SwXXb60_XY"
      },
      "source": [
        "import numpy as np\n",
        "import matplotlib.pyplot as plt"
      ],
      "execution_count": null,
      "outputs": []
    },
    {
      "cell_type": "code",
      "metadata": {
        "id": "7bwy6v-q0_Oe",
        "colab": {
          "base_uri": "https://localhost:8080/",
          "height": 34
        },
        "outputId": "3717d59d-e43b-405e-f8ea-7230bd2e2120"
      },
      "source": [
        "#e=2.718\n",
        "np.exp(1)"
      ],
      "execution_count": null,
      "outputs": [
        {
          "output_type": "execute_result",
          "data": {
            "text/plain": [
              "2.718281828459045"
            ]
          },
          "metadata": {
            "tags": []
          },
          "execution_count": 138
        }
      ]
    },
    {
      "cell_type": "code",
      "metadata": {
        "id": "B6MAD1rh0_Bg",
        "colab": {
          "base_uri": "https://localhost:8080/",
          "height": 34
        },
        "outputId": "dc2c3a33-a44e-40c9-c604-213d6beadca6"
      },
      "source": [
        "n=10000\n",
        "(1+1/n)**n"
      ],
      "execution_count": null,
      "outputs": [
        {
          "output_type": "execute_result",
          "data": {
            "text/plain": [
              "2.7181459268249255"
            ]
          },
          "metadata": {
            "tags": []
          },
          "execution_count": 139
        }
      ]
    },
    {
      "cell_type": "code",
      "metadata": {
        "id": "D57S_NIZ1ftX",
        "colab": {
          "base_uri": "https://localhost:8080/",
          "height": 51
        },
        "outputId": "aa4a20ae-a1f0-4b37-b1ac-4bb9ed9159df"
      },
      "source": [
        "x=np.arange(-10,11)\n",
        "y=x**2\n",
        "y"
      ],
      "execution_count": null,
      "outputs": [
        {
          "output_type": "execute_result",
          "data": {
            "text/plain": [
              "array([100,  81,  64,  49,  36,  25,  16,   9,   4,   1,   0,   1,   4,\n",
              "         9,  16,  25,  36,  49,  64,  81, 100])"
            ]
          },
          "metadata": {
            "tags": []
          },
          "execution_count": 140
        }
      ]
    },
    {
      "cell_type": "code",
      "metadata": {
        "id": "bifIMflB1fri",
        "colab": {
          "base_uri": "https://localhost:8080/",
          "height": 282
        },
        "outputId": "1f391e59-0660-4fe5-b13f-3b8ded4f4040"
      },
      "source": [
        "plt.plot(x,y)"
      ],
      "execution_count": null,
      "outputs": [
        {
          "output_type": "execute_result",
          "data": {
            "text/plain": [
              "[<matplotlib.lines.Line2D at 0x7f3f3334fcc0>]"
            ]
          },
          "metadata": {
            "tags": []
          },
          "execution_count": 141
        },
        {
          "output_type": "display_data",
          "data": {
            "image/png": "[encoded data removed]",
            "text/plain": [
              "<Figure size 432x288 with 1 Axes>"
            ]
          },
          "metadata": {
            "tags": [],
            "needs_background": "light"
          }
        }
      ]
    },
    {
      "cell_type": "code",
      "metadata": {
        "id": "R-wQQ2qr1fn-",
        "colab": {
          "base_uri": "https://localhost:8080/",
          "height": 68
        },
        "outputId": "afe1f30f-c7d4-4a27-9bcc-3ea6bdd204ff"
      },
      "source": [
        "x=np.arange(-10,5)\n",
        "y=(4-x)**0.5\n",
        "y"
      ],
      "execution_count": null,
      "outputs": [
        {
          "output_type": "execute_result",
          "data": {
            "text/plain": [
              "array([3.74165739, 3.60555128, 3.46410162, 3.31662479, 3.16227766,\n",
              "       3.        , 2.82842712, 2.64575131, 2.44948974, 2.23606798,\n",
              "       2.        , 1.73205081, 1.41421356, 1.        , 0.        ])"
            ]
          },
          "metadata": {
            "tags": []
          },
          "execution_count": 142
        }
      ]
    },
    {
      "cell_type": "code",
      "metadata": {
        "id": "agYBRXZ91mV7",
        "colab": {
          "base_uri": "https://localhost:8080/",
          "height": 282
        },
        "outputId": "c8463aaf-d369-48a5-b13b-ae9082bd45a4"
      },
      "source": [
        "plt.plot(x,y)"
      ],
      "execution_count": null,
      "outputs": [
        {
          "output_type": "execute_result",
          "data": {
            "text/plain": [
              "[<matplotlib.lines.Line2D at 0x7f3f332a31d0>]"
            ]
          },
          "metadata": {
            "tags": []
          },
          "execution_count": 143
        },
        {
          "output_type": "display_data",
          "data": {
            "image/png": "[encoded data removed]",
            "text/plain": [
              "<Figure size 432x288 with 1 Axes>"
            ]
          },
          "metadata": {
            "tags": [],
            "needs_background": "light"
          }
        }
      ]
    },
    {
      "cell_type": "code",
      "metadata": {
        "id": "7LUrvu0A1mTe",
        "colab": {
          "base_uri": "https://localhost:8080/",
          "height": 119
        },
        "outputId": "8589f8bd-a2dc-4f52-b184-8f5c44272f9d"
      },
      "source": [
        "x=np.arange(-10,10)\n",
        "y=x**2/(x**2-1)\n",
        "y"
      ],
      "execution_count": null,
      "outputs": [
        {
          "output_type": "stream",
          "text": [
            "/usr/local/lib/python3.6/dist-packages/ipykernel_launcher.py:2: RuntimeWarning: divide by zero encountered in true_divide\n",
            "  \n"
          ],
          "name": "stderr"
        },
        {
          "output_type": "execute_result",
          "data": {
            "text/plain": [
              "array([ 1.01010101,  1.0125    ,  1.01587302,  1.02083333,  1.02857143,\n",
              "        1.04166667,  1.06666667,  1.125     ,  1.33333333,         inf,\n",
              "       -0.        ,         inf,  1.33333333,  1.125     ,  1.06666667,\n",
              "        1.04166667,  1.02857143,  1.02083333,  1.01587302,  1.0125    ])"
            ]
          },
          "metadata": {
            "tags": []
          },
          "execution_count": 144
        }
      ]
    },
    {
      "cell_type": "code",
      "metadata": {
        "id": "cZ9rYRWj1mOe",
        "colab": {
          "base_uri": "https://localhost:8080/",
          "height": 286
        },
        "outputId": "ac2e85c2-0bd3-427b-87b7-0f17186f14f4"
      },
      "source": [
        "plt.plot(x,y)"
      ],
      "execution_count": null,
      "outputs": [
        {
          "output_type": "execute_result",
          "data": {
            "text/plain": [
              "[<matplotlib.lines.Line2D at 0x7f3f32040c50>]"
            ]
          },
          "metadata": {
            "tags": []
          },
          "execution_count": 145
        },
        {
          "output_type": "display_data",
          "data": {
            "image/png": "[encoded data removed]",
            "text/plain": [
              "<Figure size 432x288 with 1 Axes>"
            ]
          },
          "metadata": {
            "tags": [],
            "needs_background": "light"
          }
        }
      ]
    },
    {
      "cell_type": "markdown",
      "metadata": {
        "id": "Psdv9f4N1HFu"
      },
      "source": [
        "### 03.23.월"
      ]
    },
    {
      "cell_type": "code",
      "metadata": {
        "id": "hxzDonGP1PDt"
      },
      "source": [
        "import numpy as np"
      ],
      "execution_count": null,
      "outputs": []
    },
    {
      "cell_type": "code",
      "metadata": {
        "id": "1Ziu8GyK1PA8",
        "colab": {
          "base_uri": "https://localhost:8080/",
          "height": 34
        },
        "outputId": "6d6ecfa6-ac48-4880-a4c9-69a5824686cc"
      },
      "source": [
        "np.pi/4"
      ],
      "execution_count": null,
      "outputs": [
        {
          "output_type": "execute_result",
          "data": {
            "text/plain": [
              "0.7853981633974483"
            ]
          },
          "metadata": {
            "tags": []
          },
          "execution_count": 147
        }
      ]
    },
    {
      "cell_type": "code",
      "metadata": {
        "id": "JKypdHlN1O86",
        "colab": {
          "base_uri": "https://localhost:8080/",
          "height": 34
        },
        "outputId": "a1c857b3-094f-4bf4-8be0-4b2366385af6"
      },
      "source": [
        "x=1\n",
        "y=0\n",
        "for i in range(3,100,2):\n",
        "    y=y+1\n",
        "    if y%2==1:\n",
        "      x=x-1/i\n",
        "    else:\n",
        "      x=x+1/i\n",
        "print(x)"
      ],
      "execution_count": null,
      "outputs": [
        {
          "output_type": "stream",
          "text": [
            "0.7803986631477527\n"
          ],
          "name": "stdout"
        }
      ]
    }
  ]
}