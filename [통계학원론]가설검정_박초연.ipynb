{
  "nbformat": 4,
  "nbformat_minor": 0,
  "metadata": {
    "colab": {
      "name": "[통계학원론]가설검정_박초연.ipynb",
      "provenance": [],
      "collapsed_sections": [],
      "authorship_tag": "ABX9TyNbAw/GsGffqOk3WG8m4NHQ",
      "include_colab_link": true
    },
    "kernelspec": {
      "name": "python3",
      "display_name": "Python 3"
    }
  },
  "cells": [
    {
      "cell_type": "markdown",
      "metadata": {
        "id": "view-in-github",
        "colab_type": "text"
      },
      "source": [
        "<a href=\"https://colab.research.google.com/github/cho52o/statistical_theory2020/blob/main/%5B%ED%86%B5%EA%B3%84%ED%95%99%EC%9B%90%EB%A1%A0%5D%EA%B0%80%EC%84%A4%EA%B2%80%EC%A0%95_%EB%B0%95%EC%B4%88%EC%97%B0.ipynb\" target=\"_parent\"><img src=\"https://colab.research.google.com/assets/colab-badge.svg\" alt=\"Open In Colab\"/></a>"
      ]
    },
    {
      "cell_type": "code",
      "metadata": {
        "id": "V2P9iNS7HBmI",
        "colab": {
          "base_uri": "https://localhost:8080/",
          "height": 35
        },
        "outputId": "b5cae318-85de-45fb-cb25-58e8fc1df132"
      },
      "source": [
        "from google.colab import drive\n",
        "drive.mount('/content/drive')"
      ],
      "execution_count": null,
      "outputs": [
        {
          "output_type": "stream",
          "text": [
            "Drive already mounted at /content/drive; to attempt to forcibly remount, call drive.mount(\"/content/drive\", force_remount=True).\n"
          ],
          "name": "stdout"
        }
      ]
    },
    {
      "cell_type": "code",
      "metadata": {
        "id": "hbbiUbF9HBee"
      },
      "source": [
        "import pandas as pd\n",
        "df_s = pd.read_csv('/content/drive/My Drive/Salaries.csv')\n",
        "df_b = pd.read_csv('/content/drive/My Drive/Batting.csv')\n",
        "titinic = pd.read_csv('/content/drive/My Drive/titinic_data.csv')"
      ],
      "execution_count": null,
      "outputs": []
    },
    {
      "cell_type": "code",
      "metadata": {
        "id": "gehPhRQxHBYP",
        "colab": {
          "base_uri": "https://localhost:8080/",
          "height": 395
        },
        "outputId": "10e2b5ad-d51f-41a1-a248-a0a7230b1f0d"
      },
      "source": [
        "titinic.info()"
      ],
      "execution_count": null,
      "outputs": [
        {
          "output_type": "stream",
          "text": [
            "<class 'pandas.core.frame.DataFrame'>\n",
            "RangeIndex: 1310 entries, 0 to 1309\n",
            "Data columns (total 14 columns):\n",
            " #   Column     Non-Null Count  Dtype  \n",
            "---  ------     --------------  -----  \n",
            " 0   pclass     1309 non-null   float64\n",
            " 1   survived   1309 non-null   float64\n",
            " 2   name       1309 non-null   object \n",
            " 3   sex        1309 non-null   object \n",
            " 4   age        1046 non-null   float64\n",
            " 5   sibsp      1309 non-null   float64\n",
            " 6   parch      1309 non-null   float64\n",
            " 7   ticket     1309 non-null   object \n",
            " 8   fare       1308 non-null   float64\n",
            " 9   cabin      295 non-null    object \n",
            " 10  embarked   1307 non-null   object \n",
            " 11  boat       486 non-null    object \n",
            " 12  body       121 non-null    float64\n",
            " 13  home.dest  745 non-null    object \n",
            "dtypes: float64(7), object(7)\n",
            "memory usage: 143.4+ KB\n"
          ],
          "name": "stdout"
        }
      ]
    },
    {
      "cell_type": "code",
      "metadata": {
        "id": "oJjXK3YvHBTO",
        "colab": {
          "base_uri": "https://localhost:8080/",
          "height": 35
        },
        "outputId": "fd7ca328-fc10-4fca-e690-c2804127eb53"
      },
      "source": [
        "titinic['survived'].mean() # 타이타닉 생존률"
      ],
      "execution_count": null,
      "outputs": [
        {
          "output_type": "execute_result",
          "data": {
            "text/plain": [
              "0.3819709702062643"
            ]
          },
          "metadata": {
            "tags": []
          },
          "execution_count": 4
        }
      ]
    },
    {
      "cell_type": "code",
      "metadata": {
        "id": "Gz56oSVqHBOJ",
        "colab": {
          "base_uri": "https://localhost:8080/",
          "height": 35
        },
        "outputId": "f05ae098-eb98-499f-a8a8-b180019ba1e1"
      },
      "source": [
        "titinic['survived'].shape[0] # 타이타닉 탑승자"
      ],
      "execution_count": null,
      "outputs": [
        {
          "output_type": "execute_result",
          "data": {
            "text/plain": [
              "1310"
            ]
          },
          "metadata": {
            "tags": []
          },
          "execution_count": 5
        }
      ]
    },
    {
      "cell_type": "markdown",
      "metadata": {
        "id": "X1RfnwBQHP4V"
      },
      "source": [
        "06.17.수 : 연구문제\n",
        "\n",
        "> 2016년 MLB 선수 연봉의 95% 신뢰구간을 구하시오."
      ]
    },
    {
      "cell_type": "markdown",
      "metadata": {
        "id": "rFmyYt5-HV1M"
      },
      "source": [
        "> 2016년 MLB 선수 중 1,000만불 이상의 선수의 비율에 대한 95% 신뢰구간을 구하시오."
      ]
    },
    {
      "cell_type": "code",
      "metadata": {
        "id": "GB4F38N3HBIM",
        "colab": {
          "base_uri": "https://localhost:8080/",
          "height": 35
        },
        "outputId": "3e6298aa-c3b0-4a4c-c168-a6e971157d9a"
      },
      "source": [
        "df_s.columns"
      ],
      "execution_count": null,
      "outputs": [
        {
          "output_type": "execute_result",
          "data": {
            "text/plain": [
              "Index(['yearID', 'teamID', 'lgID', 'playerID', 'salary'], dtype='object')"
            ]
          },
          "metadata": {
            "tags": []
          },
          "execution_count": 6
        }
      ]
    },
    {
      "cell_type": "code",
      "metadata": {
        "id": "GNRc43Z7HRt7",
        "colab": {
          "base_uri": "https://localhost:8080/",
          "height": 204
        },
        "outputId": "de40b41d-b1c1-43b9-e9a2-c6239cd1a46f"
      },
      "source": [
        "df0=df_s[df_s['yearID']==2016]\n",
        "df0.head(5)"
      ],
      "execution_count": null,
      "outputs": [
        {
          "output_type": "execute_result",
          "data": {
            "text/html": [
              "<div>\n",
              "<style scoped>\n",
              "    .dataframe tbody tr th:only-of-type {\n",
              "        vertical-align: middle;\n",
              "    }\n",
              "\n",
              "    .dataframe tbody tr th {\n",
              "        vertical-align: top;\n",
              "    }\n",
              "\n",
              "    .dataframe thead th {\n",
              "        text-align: right;\n",
              "    }\n",
              "</style>\n",
              "<table border=\"1\" class=\"dataframe\">\n",
              "  <thead>\n",
              "    <tr style=\"text-align: right;\">\n",
              "      <th></th>\n",
              "      <th>yearID</th>\n",
              "      <th>teamID</th>\n",
              "      <th>lgID</th>\n",
              "      <th>playerID</th>\n",
              "      <th>salary</th>\n",
              "    </tr>\n",
              "  </thead>\n",
              "  <tbody>\n",
              "    <tr>\n",
              "      <th>25575</th>\n",
              "      <td>2016</td>\n",
              "      <td>ARI</td>\n",
              "      <td>NL</td>\n",
              "      <td>ahmedni01</td>\n",
              "      <td>521600</td>\n",
              "    </tr>\n",
              "    <tr>\n",
              "      <th>25576</th>\n",
              "      <td>2016</td>\n",
              "      <td>ARI</td>\n",
              "      <td>NL</td>\n",
              "      <td>barreja01</td>\n",
              "      <td>507500</td>\n",
              "    </tr>\n",
              "    <tr>\n",
              "      <th>25577</th>\n",
              "      <td>2016</td>\n",
              "      <td>ARI</td>\n",
              "      <td>NL</td>\n",
              "      <td>brachsi01</td>\n",
              "      <td>509300</td>\n",
              "    </tr>\n",
              "    <tr>\n",
              "      <th>25578</th>\n",
              "      <td>2016</td>\n",
              "      <td>ARI</td>\n",
              "      <td>NL</td>\n",
              "      <td>britoso01</td>\n",
              "      <td>508500</td>\n",
              "    </tr>\n",
              "    <tr>\n",
              "      <th>25579</th>\n",
              "      <td>2016</td>\n",
              "      <td>ARI</td>\n",
              "      <td>NL</td>\n",
              "      <td>castiwe01</td>\n",
              "      <td>3700000</td>\n",
              "    </tr>\n",
              "  </tbody>\n",
              "</table>\n",
              "</div>"
            ],
            "text/plain": [
              "       yearID teamID lgID   playerID   salary\n",
              "25575    2016    ARI   NL  ahmedni01   521600\n",
              "25576    2016    ARI   NL  barreja01   507500\n",
              "25577    2016    ARI   NL  brachsi01   509300\n",
              "25578    2016    ARI   NL  britoso01   508500\n",
              "25579    2016    ARI   NL  castiwe01  3700000"
            ]
          },
          "metadata": {
            "tags": []
          },
          "execution_count": 7
        }
      ]
    },
    {
      "cell_type": "markdown",
      "metadata": {
        "id": "NwmdGbVYHdJY"
      },
      "source": [
        "기초통계량 구하기 : 평균, 표준편차, 최소값, 제일사분위, 중앙값(제이사분위),제삼사분위, 최대값\n",
        "\n",
        "> 중앙: 평균(mu), 중앙값(median)\n",
        "\n",
        "> 분포 : 표준편차(sigma), 범위(R), 사분위(inter-Quartile Range)"
      ]
    },
    {
      "cell_type": "code",
      "metadata": {
        "id": "i_eMUL3dHRl5",
        "colab": {
          "base_uri": "https://localhost:8080/",
          "height": 35
        },
        "outputId": "7d89765b-335f-4aa9-ea69-9425d42d4568"
      },
      "source": [
        "df0['salary'].describe()[6]-df0['salary'].describe()[4] #IQR"
      ],
      "execution_count": null,
      "outputs": [
        {
          "output_type": "execute_result",
          "data": {
            "text/plain": [
              "5480000.0"
            ]
          },
          "metadata": {
            "tags": []
          },
          "execution_count": 8
        }
      ]
    },
    {
      "cell_type": "code",
      "metadata": {
        "id": "-ygOMR4xHRgQ",
        "colab": {
          "base_uri": "https://localhost:8080/",
          "height": 351
        },
        "outputId": "9356202a-f582-49ec-fdaf-f1bf76428a63"
      },
      "source": [
        "import matplotlib.pyplot as plt\n",
        "import seaborn as sns\n",
        "plt.figure(1)\n",
        "plt.subplot(211)\n",
        "from scipy.stats import norm\n",
        "sns.distplot(df0['salary'],fit=norm, bins=10)\n",
        "plt.title('histogram / box-plot for 2016 total salry of MLB teams(millions dollars)')\n",
        "plt.subplot(212)\n",
        "sns.boxplot(df0['salary'])\n",
        "plt.axvline(df0['salary'].describe()[6],color='red')\n",
        "plt.show()"
      ],
      "execution_count": null,
      "outputs": [
        {
          "output_type": "stream",
          "text": [
            "/usr/local/lib/python3.6/dist-packages/statsmodels/tools/_testing.py:19: FutureWarning: pandas.util.testing is deprecated. Use the functions in the public API at pandas.testing instead.\n",
            "  import pandas.util.testing as tm\n"
          ],
          "name": "stderr"
        },
        {
          "output_type": "display_data",
          "data": {
            "image/png": "[encoded data removed]",
            "text/plain": [
              "<Figure size 432x288 with 2 Axes>"
            ]
          },
          "metadata": {
            "tags": [],
            "needs_background": "light"
          }
        }
      ]
    },
    {
      "cell_type": "code",
      "metadata": {
        "id": "bLjZ5zFxHkAf",
        "colab": {
          "base_uri": "https://localhost:8080/",
          "height": 35
        },
        "outputId": "9e0d73bf-a1d8-4ae1-b211-54c52966d892"
      },
      "source": [
        "import scipy.stats as st\n",
        "st.t.ppf(0.975,df0.shape[0]-1)"
      ],
      "execution_count": null,
      "outputs": [
        {
          "output_type": "execute_result",
          "data": {
            "text/plain": [
              "1.9627522328330007"
            ]
          },
          "metadata": {
            "tags": []
          },
          "execution_count": 10
        }
      ]
    },
    {
      "cell_type": "code",
      "metadata": {
        "id": "FzAxA_VFHA4Q",
        "colab": {
          "base_uri": "https://localhost:8080/",
          "height": 35
        },
        "outputId": "08885047-eec7-4249-c969-63d26e22b475"
      },
      "source": [
        "L=df0['salary'].mean()-st.t.ppf(0.975,df0.shape[0]-1)*df0['salary'].std()/(df0['salary'].shape[0])**0.5\n",
        "U=df0['salary'].mean()+st.t.ppf(0.975,df0.shape[0]-1)*df0['salary'].std()/(df0['salary'].shape[0])**0.5\n",
        "print('신뢰구간 하한 :',L,'신뢰구간 상한 :',U)"
      ],
      "execution_count": null,
      "outputs": [
        {
          "output_type": "stream",
          "text": [
            "신뢰구간 하한 : 3999907.3778372044 신뢰구간 상한 : 4792911.829665727\n"
          ],
          "name": "stdout"
        }
      ]
    },
    {
      "cell_type": "markdown",
      "metadata": {
        "id": "xGyi6WI37weK"
      },
      "source": [
        "# 데이터\n",
        "\n",
        "> MLB 선수 연봉 데이터를 불러오고 2016년 데이터를 df에 저장하시오."
      ]
    },
    {
      "cell_type": "code",
      "metadata": {
        "id": "M5qLxy4q8Dt5",
        "colab": {
          "base_uri": "https://localhost:8080/",
          "height": 35
        },
        "outputId": "1e7f5d61-b08e-450a-906b-0387df3672e7"
      },
      "source": [
        "from google.colab import drive\n",
        "drive.mount('/content/drive')"
      ],
      "execution_count": null,
      "outputs": [
        {
          "output_type": "stream",
          "text": [
            "Drive already mounted at /content/drive; to attempt to forcibly remount, call drive.mount(\"/content/drive\", force_remount=True).\n"
          ],
          "name": "stdout"
        }
      ]
    },
    {
      "cell_type": "code",
      "metadata": {
        "id": "Tds-PIIQ7t6I"
      },
      "source": [
        "import pandas as pd\n",
        "df=pd.read_csv('/content/drive/My Drive/Salaries.csv')\n",
        "df16=df[df['yearID']==2016]\n",
        "df15=df[df['yearID']==2015]\n",
        "n=df16.shape[0]\n",
        "m=df15.shape[0]"
      ],
      "execution_count": null,
      "outputs": []
    },
    {
      "cell_type": "code",
      "metadata": {
        "id": "X9oDUf028fen",
        "colab": {
          "base_uri": "https://localhost:8080/",
          "height": 233
        },
        "outputId": "1488f10e-aa67-4180-ed63-01cd7b5d854c"
      },
      "source": [
        "df.info()"
      ],
      "execution_count": null,
      "outputs": [
        {
          "output_type": "stream",
          "text": [
            "<class 'pandas.core.frame.DataFrame'>\n",
            "RangeIndex: 26428 entries, 0 to 26427\n",
            "Data columns (total 5 columns):\n",
            " #   Column    Non-Null Count  Dtype \n",
            "---  ------    --------------  ----- \n",
            " 0   yearID    26428 non-null  int64 \n",
            " 1   teamID    26428 non-null  object\n",
            " 2   lgID      26428 non-null  object\n",
            " 3   playerID  26428 non-null  object\n",
            " 4   salary    26428 non-null  int64 \n",
            "dtypes: int64(2), object(3)\n",
            "memory usage: 1.0+ MB\n"
          ],
          "name": "stdout"
        }
      ]
    },
    {
      "cell_type": "markdown",
      "metadata": {
        "id": "vLpVPvEV8jOs"
      },
      "source": [
        "# 문제 #1 모비율 검정"
      ]
    },
    {
      "cell_type": "markdown",
      "metadata": {
        "id": "srXZZ3-p8wOn"
      },
      "source": [
        "1. 연봉 10,000,000$ 이상인 선수 비율에 대한 95% 신뢰구간을 구하시오."
      ]
    },
    {
      "cell_type": "code",
      "metadata": {
        "id": "XVve1ttu8hu9",
        "colab": {
          "base_uri": "https://localhost:8080/",
          "height": 35
        },
        "outputId": "a1da7e63-b9b1-47c6-ad77-b5158644a819"
      },
      "source": [
        "# 점 추정\n",
        "phat=sum(df16['salary']>10000000)/n\n",
        "phat"
      ],
      "execution_count": null,
      "outputs": [
        {
          "output_type": "execute_result",
          "data": {
            "text/plain": [
              "0.141852286049238"
            ]
          },
          "metadata": {
            "tags": []
          },
          "execution_count": 15
        }
      ]
    },
    {
      "cell_type": "code",
      "metadata": {
        "id": "tl02kOAZ_eWm"
      },
      "source": [
        "import scipy.stats as st"
      ],
      "execution_count": null,
      "outputs": []
    },
    {
      "cell_type": "code",
      "metadata": {
        "id": "w4XUSn7r9R7h",
        "colab": {
          "base_uri": "https://localhost:8080/",
          "height": 35
        },
        "outputId": "0eaad09a-2d8e-421f-f41f-e457f7406776"
      },
      "source": [
        "# 구간 추정\n",
        "L=phat-st.norm.ppf(0.975)*(phat*(1-phat)/n)**0.5\n",
        "U=phat+st.norm.ppf(0.975)*(phat*(1-phat)/n)**0.5\n",
        "print('신뢰구간 하한 :',L,'신뢰구간 상한 :',U)"
      ],
      "execution_count": null,
      "outputs": [
        {
          "output_type": "stream",
          "text": [
            "신뢰구간 하한 : 0.1184384393798784 신뢰구간 상한 : 0.16526613271859758\n"
          ],
          "name": "stdout"
        }
      ]
    },
    {
      "cell_type": "markdown",
      "metadata": {
        "id": "zch12P8dCtMB"
      },
      "source": [
        "2. 연봉 10,000,000$ 이상인 선수 비율이 2000년에는 10%였다. 2016년 2000년에 비해 높아졌다고 할 수 있나? 유의수준 5%에서 검정하시오.\n",
        "\n",
        "> 귀무가설 연봉 10,000,000$ 이상인 선수 비율이 10%이다., \n",
        "대립가설 연봉 10,000,000$ 이상인 선수 비율이 10%보다 높아졌다.\n",
        "\n",
        ">검정통계량 계산\n",
        "T=phat-p/(phat(1-phat)/n)**0.5"
      ]
    },
    {
      "cell_type": "code",
      "metadata": {
        "id": "HpPG67I1_bNt",
        "colab": {
          "base_uri": "https://localhost:8080/",
          "height": 35
        },
        "outputId": "3961ac4e-6293-422d-9be9-6706b57c8455"
      },
      "source": [
        "TS=(phat-0.1)/(phat*(1-phat)/n)**0.5\n",
        "TS"
      ],
      "execution_count": null,
      "outputs": [
        {
          "output_type": "execute_result",
          "data": {
            "text/plain": [
              "3.5034385628962617"
            ]
          },
          "metadata": {
            "tags": []
          },
          "execution_count": 18
        }
      ]
    },
    {
      "cell_type": "markdown",
      "metadata": {
        "id": "AexuXgDtEOGK"
      },
      "source": [
        "> 유의확률 계산\n",
        "p-value = P(z > |T|)"
      ]
    },
    {
      "cell_type": "code",
      "metadata": {
        "id": "dDWd7UU3EL53",
        "colab": {
          "base_uri": "https://localhost:8080/",
          "height": 35
        },
        "outputId": "18bef54b-9843-4188-c7a9-74297cec867b"
      },
      "source": [
        "1-st.norm.cdf(abs(TS))"
      ],
      "execution_count": null,
      "outputs": [
        {
          "output_type": "execute_result",
          "data": {
            "text/plain": [
              "0.0002296462954536338"
            ]
          },
          "metadata": {
            "tags": []
          },
          "execution_count": 19
        }
      ]
    },
    {
      "cell_type": "markdown",
      "metadata": {
        "id": "C8oCNQPpGtv8"
      },
      "source": [
        "> 결론 : 유의확률(0.0002296462954536338)이 유의수준(0.05)보다 작기 때문에 귀무가설을 기각하고 대립가설을 채택한다. 즉, 2000년에 비해 2016년에 연봉10,000,000$ 이상인 선수의 비율이 증가하였다."
      ]
    },
    {
      "cell_type": "markdown",
      "metadata": {
        "id": "gM-vcyVIH6qR"
      },
      "source": [
        "# 문제 #2 모비율 차이 검정\n",
        "\n",
        "1. 연봉 10,000,000$ 이상인 선수 비율 (2016년, 2015년) 차이에 대한 95% 신뢰구간을 구하시오."
      ]
    },
    {
      "cell_type": "code",
      "metadata": {
        "id": "FiIFz_QwD_hM",
        "colab": {
          "base_uri": "https://localhost:8080/",
          "height": 35
        },
        "outputId": "0936b3ba-16c2-4357-eea4-5831de57475c"
      },
      "source": [
        "# 점 추정\n",
        "phat16=sum(df16['salary']>10000000)/n\n",
        "phat16\n",
        "phat15=sum(df15['salary']>10000000)/m\n",
        "phat15"
      ],
      "execution_count": null,
      "outputs": [
        {
          "output_type": "execute_result",
          "data": {
            "text/plain": [
              "0.13586291309669524"
            ]
          },
          "metadata": {
            "tags": []
          },
          "execution_count": 20
        }
      ]
    },
    {
      "cell_type": "code",
      "metadata": {
        "id": "Q6sEp1VXIuhb",
        "colab": {
          "base_uri": "https://localhost:8080/",
          "height": 35
        },
        "outputId": "878531aa-1939-47eb-d585-965884569484"
      },
      "source": [
        "# 구간 추정\n",
        "L=(phat16-phat15)-st.norm.ppf(0.975)*((phat16*(1-phat16)/n)+(phat15*(1-phat15)/m))**0.5\n",
        "U=(phat16-phat15)+st.norm.ppf(0.975)*((phat16*(1-phat16)/n)+(phat15*(1-phat15)/m))**0.5\n",
        "print('신뢰구간 하한 :',L,'신뢰구간 상한 :',U)"
      ],
      "execution_count": null,
      "outputs": [
        {
          "output_type": "stream",
          "text": [
            "신뢰구간 하한 : -0.0271803704284566 신뢰구간 상한 : 0.03915911633354212\n"
          ],
          "name": "stdout"
        }
      ]
    },
    {
      "cell_type": "markdown",
      "metadata": {
        "id": "tkuJENSHKta2"
      },
      "source": [
        "2. 연봉 10,000,000$ 이상인 선수 비율이 2016년이 2015년보다 높아졌나? 유의수준 5%에서 검정하시오.\n",
        "\n",
        "> 귀무가설 2016년 천만불 이상 선수 비율은 2015년과 동일하다.,\n",
        "대립가설 2016년 천만불 이상 선수 비율은 2015년보다 높다.\n",
        "\n",
        "> 검정통계량 계산"
      ]
    },
    {
      "cell_type": "code",
      "metadata": {
        "id": "cFY4sTd4gr9l",
        "colab": {
          "base_uri": "https://localhost:8080/",
          "height": 35
        },
        "outputId": "4888da1a-9910-4fc0-d89d-f7b79f4a8eca"
      },
      "source": [
        "phat0=(sum(df16['salary']>10000000)+sum(df15['salary']>10000000))/(n+m)\n",
        "phat0"
      ],
      "execution_count": null,
      "outputs": [
        {
          "output_type": "execute_result",
          "data": {
            "text/plain": [
              "0.13892215568862276"
            ]
          },
          "metadata": {
            "tags": []
          },
          "execution_count": 22
        }
      ]
    },
    {
      "cell_type": "code",
      "metadata": {
        "id": "8TzqrfxoKjfp",
        "colab": {
          "base_uri": "https://localhost:8080/",
          "height": 35
        },
        "outputId": "9d2d6ae6-61f8-477b-e92f-c9fc4e3c4261"
      },
      "source": [
        "TS=(phat16-phat15)/(phat0*(1-phat0)*(1/n+1/m))**0.5\n",
        "TS"
      ],
      "execution_count": null,
      "outputs": [
        {
          "output_type": "execute_result",
          "data": {
            "text/plain": [
              "0.3537542783553988"
            ]
          },
          "metadata": {
            "tags": []
          },
          "execution_count": 23
        }
      ]
    },
    {
      "cell_type": "markdown",
      "metadata": {
        "id": "nF286bInRaux"
      },
      "source": [
        "> 유의확률 계산\n",
        "p-value = P(z > |T|)"
      ]
    },
    {
      "cell_type": "code",
      "metadata": {
        "id": "N4EGIWHSReaY",
        "colab": {
          "base_uri": "https://localhost:8080/",
          "height": 35
        },
        "outputId": "4069707f-ec09-43cf-845a-01ea907780fa"
      },
      "source": [
        "1-st.norm.cdf(abs(TS))"
      ],
      "execution_count": null,
      "outputs": [
        {
          "output_type": "execute_result",
          "data": {
            "text/plain": [
              "0.3617615205640119"
            ]
          },
          "metadata": {
            "tags": []
          },
          "execution_count": 24
        }
      ]
    },
    {
      "cell_type": "markdown",
      "metadata": {
        "id": "RRxEKegpNj8v"
      },
      "source": [
        "> 결론 : 유의확률(0.3617615205640119)이 유의수준(0.05)보다 크기 때문에 귀무가설을 기각하지 못한다. 즉, 2015년에 비해 2016년에 연봉10,000,000$ 이상인 선수의 비율은 통계적으로 같다."
      ]
    },
    {
      "cell_type": "markdown",
      "metadata": {
        "id": "4IOnSLsANz_f"
      },
      "source": [
        "# 문제 #3 모평균 검정\n",
        "\n",
        "1. 2016년 MLB 선수 평균연봉이 대한 95% 신뢰구간을 구하시오."
      ]
    },
    {
      "cell_type": "code",
      "metadata": {
        "id": "Prju6UOvOkGn"
      },
      "source": [
        "df=df[df['yearID']==2016]"
      ],
      "execution_count": null,
      "outputs": []
    },
    {
      "cell_type": "code",
      "metadata": {
        "id": "hTROIIbhNPAg"
      },
      "source": [
        "# 점 추정\n",
        "xbar=df['salary']\n",
        "xbar.mean()\n",
        "sd=xbar.std()\n",
        "n=xbar.shape[0]"
      ],
      "execution_count": null,
      "outputs": []
    },
    {
      "cell_type": "code",
      "metadata": {
        "id": "v0CRWJOzO2vN",
        "colab": {
          "base_uri": "https://localhost:8080/",
          "height": 35
        },
        "outputId": "73f0e980-eacb-4b84-f4b7-6cbe1223034e"
      },
      "source": [
        "# 구간 추정\n",
        "L=xbar.mean()-st.t.ppf(0.975,df.shape[0]-1)*sd/n**0.5\n",
        "U=xbar.mean()+st.t.ppf(0.975,df.shape[0]-1)*sd/n**0.5\n",
        "print('신뢰구간 하한 :',L,'신뢰구간 상한 :',U)"
      ],
      "execution_count": null,
      "outputs": [
        {
          "output_type": "stream",
          "text": [
            "신뢰구간 하한 : 3999907.3778372044 신뢰구간 상한 : 4792911.829665727\n"
          ],
          "name": "stdout"
        }
      ]
    },
    {
      "cell_type": "markdown",
      "metadata": {
        "id": "fyWrgTiHPVnh"
      },
      "source": [
        "2. MLB 구단주는 2016년 선수들의 평균 연봉은 4,000,000불 이상이라고 주장한다. 그들의 주장이 맞는지 검정하시오.\n",
        "\n",
        "> 귀무가설 2016년 선수 연봉은 4,000,000불이다.,\n",
        "대립가설 2016년 선수 연봉은 4,000,000불보다 크다.\n",
        "\n",
        "> 검정통계량\n",
        "TS = (표본평균 - 귀무가설 설정평균) / (s/sqrt(n))"
      ]
    },
    {
      "cell_type": "code",
      "metadata": {
        "id": "8xLusvPZPTkI",
        "colab": {
          "base_uri": "https://localhost:8080/",
          "height": 35
        },
        "outputId": "3477910f-b7a1-4824-a71d-6a3c8fbf7faa"
      },
      "source": [
        "TS = (xbar.mean()-4000000)/(sd/n**0.5)\n",
        "TS"
      ],
      "execution_count": null,
      "outputs": [
        {
          "output_type": "execute_result",
          "data": {
            "text/plain": [
              "1.9622937376595675"
            ]
          },
          "metadata": {
            "tags": []
          },
          "execution_count": 28
        }
      ]
    },
    {
      "cell_type": "markdown",
      "metadata": {
        "id": "B5cdSzuDR77r"
      },
      "source": [
        "> 유의확률 계산\n",
        "p-value = P(z > |TS|)"
      ]
    },
    {
      "cell_type": "code",
      "metadata": {
        "id": "qVKy3z6mQm5_",
        "colab": {
          "base_uri": "https://localhost:8080/",
          "height": 35
        },
        "outputId": "5744b0a6-452d-4e77-fff9-460a981b5b9e"
      },
      "source": [
        "1-st.norm.cdf(abs(TS))"
      ],
      "execution_count": null,
      "outputs": [
        {
          "output_type": "execute_result",
          "data": {
            "text/plain": [
              "0.0248641479414079"
            ]
          },
          "metadata": {
            "tags": []
          },
          "execution_count": 29
        }
      ]
    },
    {
      "cell_type": "markdown",
      "metadata": {
        "id": "aJkp_mHNSE24"
      },
      "source": [
        "> 결론 : 유의확률(0.0248641479414079)이 유의수준(0.05)보다 작기 때문에 귀무가설을 기각하고 대립가설을 채택한다. 즉, 2016년 선수들의 평균연봉은 4,000,000불 이상이라는 구단주의 주장은 적절하다."
      ]
    },
    {
      "cell_type": "code",
      "metadata": {
        "id": "yTgR9Wj5nlr6",
        "colab": {
          "base_uri": "https://localhost:8080/",
          "height": 35
        },
        "outputId": "e250078e-be7e-4017-9f79-0a79250f7ff1"
      },
      "source": [
        "xbar=df15['salary'].mean()\n",
        "ybar=df16['salary'].mean()\n",
        "sx=df15['salary'].std()\n",
        "sy=df16['salary'].std()\n",
        "sp=((m-1)*sx**2+(n-1)*sy**2)/(n+m-2)\n",
        "print(xbar,ybar,sp)"
      ],
      "execution_count": null,
      "outputs": [
        {
          "output_type": "stream",
          "text": [
            "4301276.094247246 4396409.603751466 32612690190522.723\n"
          ],
          "name": "stdout"
        }
      ]
    },
    {
      "cell_type": "code",
      "metadata": {
        "id": "OIEOztDanmz0",
        "colab": {
          "base_uri": "https://localhost:8080/",
          "height": 35
        },
        "outputId": "c241b91d-9026-411a-f1a6-881e4b626f59"
      },
      "source": [
        "# 구간 추정\n",
        "L=(xbar-ybar)-st.t.ppf(0.975,n+m-2)*(sx**2/m+sy**2/n)**0.5\n",
        "U=(xbar-ybar)+st.t.ppf(0.975,n+m-2)*(sx**2/m+sy**2/n)**0.5\n",
        "print('신뢰구간 하한 :',L,'신뢰구간 상한 :',U)"
      ],
      "execution_count": null,
      "outputs": [
        {
          "output_type": "stream",
          "text": [
            "신뢰구간 하한 : -642632.3258064527 신뢰구간 상한 : 452365.3067980136\n"
          ],
          "name": "stdout"
        }
      ]
    },
    {
      "cell_type": "code",
      "metadata": {
        "id": "ms4_pi9npyr8",
        "colab": {
          "base_uri": "https://localhost:8080/",
          "height": 35
        },
        "outputId": "03ddcbd4-7549-4ec2-ab9a-b4bfb294a492"
      },
      "source": [
        "TS = (xbar-ybar)/(sp*(1/n+1/m))**0.5\n",
        "TS"
      ],
      "execution_count": null,
      "outputs": [
        {
          "output_type": "execute_result",
          "data": {
            "text/plain": [
              "-0.3403043606424835"
            ]
          },
          "metadata": {
            "tags": []
          },
          "execution_count": 36
        }
      ]
    },
    {
      "cell_type": "code",
      "metadata": {
        "id": "y4uMJQG2otn3",
        "colab": {
          "base_uri": "https://localhost:8080/",
          "height": 35
        },
        "outputId": "fa46e7ee-3e69-49eb-e3a3-8ee5e739cdbd"
      },
      "source": [
        "1-st.t.cdf(abs(TS),n+m-2)"
      ],
      "execution_count": null,
      "outputs": [
        {
          "output_type": "execute_result",
          "data": {
            "text/plain": [
              "0.3668350921453116"
            ]
          },
          "metadata": {
            "tags": []
          },
          "execution_count": 37
        }
      ]
    },
    {
      "cell_type": "markdown",
      "metadata": {
        "id": "KFBzQEwzH_0N"
      },
      "source": [
        "> 귀무가설 : 2016년선수연봉과 2015년 선수연봉은 같다. \n",
        "대립가설 : 2016년선수연봉이 2015년 선수연봉보다 크다."
      ]
    },
    {
      "cell_type": "markdown",
      "metadata": {
        "id": "rCZLOM0bH0ry"
      },
      "source": [
        "유의확률(0.3668350921453116)이 유의수준(0.05)보다 크므로 귀무가설을 기각하지 못한다. 따라서 2016년 연봉과 2015연봉은 같다."
      ]
    }
  ]
}